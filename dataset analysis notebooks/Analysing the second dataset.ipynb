{
 "cells": [
  {
   "cell_type": "code",
   "execution_count": 1,
   "metadata": {
    "collapsed": true
   },
   "outputs": [],
   "source": [
    "from datetime  import datetime\n",
    "import pandas as pd\n",
    "import numpy as np\n",
    "import matplotlib.pyplot as plt\n",
    "\n"
   ]
  },
  {
   "cell_type": "code",
   "execution_count": 2,
   "outputs": [
    {
     "data": {
      "text/plain": "32703"
     },
     "execution_count": 2,
     "metadata": {},
     "output_type": "execute_result"
    }
   ],
   "source": [
    "# axis = 0 is Row, axis = 1 is Column\n",
    "vehicle_routes = pd.read_csv(\"data/GothaerPlatz VehicleRoutes/Erfurt, Gothaer Platz_20211109_vehicle routes.csv\")\n",
    "len(vehicle_routes)\n"
   ],
   "metadata": {
    "collapsed": false,
    "pycharm": {
     "name": "#%%\n"
    }
   }
  },
  {
   "cell_type": "code",
   "execution_count": 3,
   "outputs": [
    {
     "data": {
      "text/plain": "                          timestamp origin destination class\n0  2021-11-09 23:01:45.288000+00:00      B           D   CAR\n1  2021-11-09 23:02:08.494000+00:00      D           B   CAR\n2  2021-11-09 23:02:16.429000+00:00      D           B   CAR\n3  2021-11-09 23:03:21.699000+00:00      D           B   CAR\n4  2021-11-09 23:03:53.278000+00:00      D           A   CAR",
      "text/html": "<div>\n<style scoped>\n    .dataframe tbody tr th:only-of-type {\n        vertical-align: middle;\n    }\n\n    .dataframe tbody tr th {\n        vertical-align: top;\n    }\n\n    .dataframe thead th {\n        text-align: right;\n    }\n</style>\n<table border=\"1\" class=\"dataframe\">\n  <thead>\n    <tr style=\"text-align: right;\">\n      <th></th>\n      <th>timestamp</th>\n      <th>origin</th>\n      <th>destination</th>\n      <th>class</th>\n    </tr>\n  </thead>\n  <tbody>\n    <tr>\n      <th>0</th>\n      <td>2021-11-09 23:01:45.288000+00:00</td>\n      <td>B</td>\n      <td>D</td>\n      <td>CAR</td>\n    </tr>\n    <tr>\n      <th>1</th>\n      <td>2021-11-09 23:02:08.494000+00:00</td>\n      <td>D</td>\n      <td>B</td>\n      <td>CAR</td>\n    </tr>\n    <tr>\n      <th>2</th>\n      <td>2021-11-09 23:02:16.429000+00:00</td>\n      <td>D</td>\n      <td>B</td>\n      <td>CAR</td>\n    </tr>\n    <tr>\n      <th>3</th>\n      <td>2021-11-09 23:03:21.699000+00:00</td>\n      <td>D</td>\n      <td>B</td>\n      <td>CAR</td>\n    </tr>\n    <tr>\n      <th>4</th>\n      <td>2021-11-09 23:03:53.278000+00:00</td>\n      <td>D</td>\n      <td>A</td>\n      <td>CAR</td>\n    </tr>\n  </tbody>\n</table>\n</div>"
     },
     "execution_count": 3,
     "metadata": {},
     "output_type": "execute_result"
    }
   ],
   "source": [
    "# View the data in csv file for short\n",
    "vehicle_routes.head()"
   ],
   "metadata": {
    "collapsed": false,
    "pycharm": {
     "name": "#%%\n"
    }
   }
  },
  {
   "cell_type": "code",
   "execution_count": 4,
   "outputs": [
    {
     "data": {
      "text/plain": "timestamp      object\norigin         object\ndestination    object\nclass          object\ndtype: object"
     },
     "execution_count": 4,
     "metadata": {},
     "output_type": "execute_result"
    }
   ],
   "source": [
    "##See the type of attributes\n",
    "vehicle_routes.dtypes\n",
    "\n"
   ],
   "metadata": {
    "collapsed": false,
    "pycharm": {
     "name": "#%%\n"
    }
   }
  },
  {
   "cell_type": "code",
   "execution_count": 5,
   "outputs": [
    {
     "data": {
      "text/plain": "                              timestamp origin destination class\n0      2021-11-09 23:01:45.288000+00:00      B           D   CAR\n6      2021-11-09 23:06:17.372000+00:00      B           D   CAR\n7      2021-11-09 23:06:46.021000+00:00      B           A   CAR\n10     2021-11-09 23:09:19.758000+00:00      B           D   CAR\n16     2021-11-09 23:13:39.690000+00:00      B           A   CAR\n...                                 ...    ...         ...   ...\n32677  2021-11-10 22:41:22.361000+00:00      B           D   CAR\n32685  2021-11-10 22:45:52.770000+00:00      B           D   CAR\n32696  2021-11-10 22:56:30.760000+00:00      B           D   CAR\n32699  2021-11-10 22:58:00.907000+00:00      B           D   CAR\n32701  2021-11-10 22:58:28.349000+00:00      B           A   CAR\n\n[9350 rows x 4 columns]",
      "text/html": "<div>\n<style scoped>\n    .dataframe tbody tr th:only-of-type {\n        vertical-align: middle;\n    }\n\n    .dataframe tbody tr th {\n        vertical-align: top;\n    }\n\n    .dataframe thead th {\n        text-align: right;\n    }\n</style>\n<table border=\"1\" class=\"dataframe\">\n  <thead>\n    <tr style=\"text-align: right;\">\n      <th></th>\n      <th>timestamp</th>\n      <th>origin</th>\n      <th>destination</th>\n      <th>class</th>\n    </tr>\n  </thead>\n  <tbody>\n    <tr>\n      <th>0</th>\n      <td>2021-11-09 23:01:45.288000+00:00</td>\n      <td>B</td>\n      <td>D</td>\n      <td>CAR</td>\n    </tr>\n    <tr>\n      <th>6</th>\n      <td>2021-11-09 23:06:17.372000+00:00</td>\n      <td>B</td>\n      <td>D</td>\n      <td>CAR</td>\n    </tr>\n    <tr>\n      <th>7</th>\n      <td>2021-11-09 23:06:46.021000+00:00</td>\n      <td>B</td>\n      <td>A</td>\n      <td>CAR</td>\n    </tr>\n    <tr>\n      <th>10</th>\n      <td>2021-11-09 23:09:19.758000+00:00</td>\n      <td>B</td>\n      <td>D</td>\n      <td>CAR</td>\n    </tr>\n    <tr>\n      <th>16</th>\n      <td>2021-11-09 23:13:39.690000+00:00</td>\n      <td>B</td>\n      <td>A</td>\n      <td>CAR</td>\n    </tr>\n    <tr>\n      <th>...</th>\n      <td>...</td>\n      <td>...</td>\n      <td>...</td>\n      <td>...</td>\n    </tr>\n    <tr>\n      <th>32677</th>\n      <td>2021-11-10 22:41:22.361000+00:00</td>\n      <td>B</td>\n      <td>D</td>\n      <td>CAR</td>\n    </tr>\n    <tr>\n      <th>32685</th>\n      <td>2021-11-10 22:45:52.770000+00:00</td>\n      <td>B</td>\n      <td>D</td>\n      <td>CAR</td>\n    </tr>\n    <tr>\n      <th>32696</th>\n      <td>2021-11-10 22:56:30.760000+00:00</td>\n      <td>B</td>\n      <td>D</td>\n      <td>CAR</td>\n    </tr>\n    <tr>\n      <th>32699</th>\n      <td>2021-11-10 22:58:00.907000+00:00</td>\n      <td>B</td>\n      <td>D</td>\n      <td>CAR</td>\n    </tr>\n    <tr>\n      <th>32701</th>\n      <td>2021-11-10 22:58:28.349000+00:00</td>\n      <td>B</td>\n      <td>A</td>\n      <td>CAR</td>\n    </tr>\n  </tbody>\n</table>\n<p>9350 rows × 4 columns</p>\n</div>"
     },
     "execution_count": 5,
     "metadata": {},
     "output_type": "execute_result"
    }
   ],
   "source": [
    "#some filtering\n",
    "vehicle_routes[(vehicle_routes[\"class\"] == \"CAR\") & (vehicle_routes[\"origin\"] ==\"B\") ]"
   ],
   "metadata": {
    "collapsed": false,
    "pycharm": {
     "name": "#%%\n"
    }
   }
  },
  {
   "cell_type": "code",
   "execution_count": 6,
   "outputs": [
    {
     "data": {
      "text/plain": "CAR                      27624\nTRANSPORTER_WO_WINDOW     1703\nTRANSPORTER_W_WINDOW      1248\nTRUCK                      999\nBICYCLE                    757\nMOTORBIKE                  106\nCAR_W_TRAILER              102\nSEMI_TRAILER_TRUCK          68\nTRUCK_W_TRAILER             51\nBUS                         45\nName: class, dtype: int64"
     },
     "execution_count": 6,
     "metadata": {},
     "output_type": "execute_result"
    }
   ],
   "source": [
    "# show all the cars with their frequencies and sort them\n",
    "types_of_cars = vehicle_routes[\"class\"].value_counts(sort=True)\n",
    "types_of_cars\n",
    "\n",
    "\n",
    "\n"
   ],
   "metadata": {
    "collapsed": false,
    "pycharm": {
     "name": "#%%\n"
    }
   }
  },
  {
   "cell_type": "code",
   "execution_count": 7,
   "outputs": [],
   "source": [
    "#change the the type of timestamp from simple string to datetime64[ns], which is in numpy\n",
    "vehicle_routes['timestamp'] = pd.to_datetime(vehicle_routes['timestamp'], format=\"%Y-%m-%d %H:%M:%S.%f+00:00\")\n",
    "\n"
   ],
   "metadata": {
    "collapsed": false,
    "pycharm": {
     "name": "#%%\n"
    }
   }
  },
  {
   "cell_type": "code",
   "execution_count": 8,
   "outputs": [],
   "source": [
    "# Filter data in csv file and get the data on Nov 10 between 16 pM to 18 pM\n",
    "all_vehicles_from_sixteen_to_eighteen = vehicle_routes.loc[(vehicle_routes['timestamp'] >= '2021-11-10 16:00:00.000000')\n",
    "                                                           & (vehicle_routes['timestamp'] < '2021-11-10 18:00:00.000000')]\n",
    "\n"
   ],
   "metadata": {
    "collapsed": false,
    "pycharm": {
     "name": "#%%\n"
    }
   }
  },
  {
   "cell_type": "code",
   "execution_count": 9,
   "outputs": [],
   "source": [
    "# get the data on Nov 10 between 16 pM to 16:15 pM\n",
    "all_vehicles_from_sixteen_to_sixteenfifteen = all_vehicles_from_sixteen_to_eighteen.loc[(all_vehicles_from_sixteen_to_eighteen['timestamp'] >= '2021-11-10 07:00:00.000000')\n",
    "                     & (all_vehicles_from_sixteen_to_eighteen['timestamp'] < '2021-11-10 07:15:00.000000')]\n",
    "\n"
   ],
   "metadata": {
    "collapsed": false,
    "pycharm": {
     "name": "#%%\n"
    }
   }
  },
  {
   "cell_type": "code",
   "execution_count": 14,
   "outputs": [
    {
     "data": {
      "text/plain": "CAR                      3575\nTRANSPORTER_WO_WINDOW     139\nTRANSPORTER_W_WINDOW       79\nBICYCLE                    61\nTRUCK                      34\nMOTORBIKE                  21\nBUS                         5\nCAR_W_TRAILER               4\nTRUCK_W_TRAILER             2\nSEMI_TRAILER_TRUCK          2\nName: class, dtype: int64"
     },
     "execution_count": 14,
     "metadata": {},
     "output_type": "execute_result"
    }
   ],
   "source": [
    "all_vehicles_from_sixteen_to_eighteen[\"class\"].value_counts(sort=True)"
   ],
   "metadata": {
    "collapsed": false,
    "pycharm": {
     "name": "#%%\n"
    }
   }
  },
  {
   "cell_type": "code",
   "execution_count": 11,
   "outputs": [
    {
     "data": {
      "text/plain": "class   BICYCLE  BUS   CAR  CAR_W_TRAILER  MOTORBIKE  SEMI_TRAILER_TRUCK  \\\norigin                                                                     \nA             4    0   732              1          1                   0   \nB            34    2  1141              2          1                   1   \nD            23    3  1702              1         19                   1   \n\nclass   TRANSPORTER_WO_WINDOW  TRANSPORTER_W_WINDOW  TRUCK  TRUCK_W_TRAILER  \norigin                                                                       \nA                          26                    13      8                0  \nB                          58                    16     14                0  \nD                          55                    50     12                2  ",
      "text/html": "<div>\n<style scoped>\n    .dataframe tbody tr th:only-of-type {\n        vertical-align: middle;\n    }\n\n    .dataframe tbody tr th {\n        vertical-align: top;\n    }\n\n    .dataframe thead th {\n        text-align: right;\n    }\n</style>\n<table border=\"1\" class=\"dataframe\">\n  <thead>\n    <tr style=\"text-align: right;\">\n      <th>class</th>\n      <th>BICYCLE</th>\n      <th>BUS</th>\n      <th>CAR</th>\n      <th>CAR_W_TRAILER</th>\n      <th>MOTORBIKE</th>\n      <th>SEMI_TRAILER_TRUCK</th>\n      <th>TRANSPORTER_WO_WINDOW</th>\n      <th>TRANSPORTER_W_WINDOW</th>\n      <th>TRUCK</th>\n      <th>TRUCK_W_TRAILER</th>\n    </tr>\n    <tr>\n      <th>origin</th>\n      <th></th>\n      <th></th>\n      <th></th>\n      <th></th>\n      <th></th>\n      <th></th>\n      <th></th>\n      <th></th>\n      <th></th>\n      <th></th>\n    </tr>\n  </thead>\n  <tbody>\n    <tr>\n      <th>A</th>\n      <td>4</td>\n      <td>0</td>\n      <td>732</td>\n      <td>1</td>\n      <td>1</td>\n      <td>0</td>\n      <td>26</td>\n      <td>13</td>\n      <td>8</td>\n      <td>0</td>\n    </tr>\n    <tr>\n      <th>B</th>\n      <td>34</td>\n      <td>2</td>\n      <td>1141</td>\n      <td>2</td>\n      <td>1</td>\n      <td>1</td>\n      <td>58</td>\n      <td>16</td>\n      <td>14</td>\n      <td>0</td>\n    </tr>\n    <tr>\n      <th>D</th>\n      <td>23</td>\n      <td>3</td>\n      <td>1702</td>\n      <td>1</td>\n      <td>19</td>\n      <td>1</td>\n      <td>55</td>\n      <td>50</td>\n      <td>12</td>\n      <td>2</td>\n    </tr>\n  </tbody>\n</table>\n</div>"
     },
     "execution_count": 11,
     "metadata": {},
     "output_type": "execute_result"
    }
   ],
   "source": [
    "#classify all vehicles from 16:00 to 18:00 according to the vehicle type and origin\n",
    "classified_vehicles_from_sixteen_to_eighteen = pd.crosstab(all_vehicles_from_sixteen_to_eighteen[\"origin\"],all_vehicles_from_sixteen_to_eighteen[\"class\"])\n",
    "classified_vehicles_from_sixteen_to_eighteen"
   ],
   "metadata": {
    "collapsed": false,
    "pycharm": {
     "name": "#%%\n"
    }
   }
  },
  {
   "cell_type": "code",
   "execution_count": 12,
   "outputs": [
    {
     "data": {
      "text/plain": "class   BICYCLE  BUS   CAR  CAR_W_TRAILER  MOTORBIKE  SEMI_TRAILER_TRUCK  \\\norigin                                                                     \nA             4    0   732              1          1                   0   \nB            34    2  1141              2          1                   1   \nD            23    3  1702              1         19                   1   \n\nclass   TRANSPORTER_WO_WINDOW  TRANSPORTER_W_WINDOW  TRUCK  TRUCK_W_TRAILER  \\\norigin                                                                        \nA                          26                    13      8                0   \nB                          58                    16     14                0   \nD                          55                    50     12                2   \n\nclass   All_Trucks  All_Cars  All_Transporters  \norigin                                          \nA                8       733                39  \nB               14      1143                74  \nD               14      1703               105  ",
      "text/html": "<div>\n<style scoped>\n    .dataframe tbody tr th:only-of-type {\n        vertical-align: middle;\n    }\n\n    .dataframe tbody tr th {\n        vertical-align: top;\n    }\n\n    .dataframe thead th {\n        text-align: right;\n    }\n</style>\n<table border=\"1\" class=\"dataframe\">\n  <thead>\n    <tr style=\"text-align: right;\">\n      <th>class</th>\n      <th>BICYCLE</th>\n      <th>BUS</th>\n      <th>CAR</th>\n      <th>CAR_W_TRAILER</th>\n      <th>MOTORBIKE</th>\n      <th>SEMI_TRAILER_TRUCK</th>\n      <th>TRANSPORTER_WO_WINDOW</th>\n      <th>TRANSPORTER_W_WINDOW</th>\n      <th>TRUCK</th>\n      <th>TRUCK_W_TRAILER</th>\n      <th>All_Trucks</th>\n      <th>All_Cars</th>\n      <th>All_Transporters</th>\n    </tr>\n    <tr>\n      <th>origin</th>\n      <th></th>\n      <th></th>\n      <th></th>\n      <th></th>\n      <th></th>\n      <th></th>\n      <th></th>\n      <th></th>\n      <th></th>\n      <th></th>\n      <th></th>\n      <th></th>\n      <th></th>\n    </tr>\n  </thead>\n  <tbody>\n    <tr>\n      <th>A</th>\n      <td>4</td>\n      <td>0</td>\n      <td>732</td>\n      <td>1</td>\n      <td>1</td>\n      <td>0</td>\n      <td>26</td>\n      <td>13</td>\n      <td>8</td>\n      <td>0</td>\n      <td>8</td>\n      <td>733</td>\n      <td>39</td>\n    </tr>\n    <tr>\n      <th>B</th>\n      <td>34</td>\n      <td>2</td>\n      <td>1141</td>\n      <td>2</td>\n      <td>1</td>\n      <td>1</td>\n      <td>58</td>\n      <td>16</td>\n      <td>14</td>\n      <td>0</td>\n      <td>14</td>\n      <td>1143</td>\n      <td>74</td>\n    </tr>\n    <tr>\n      <th>D</th>\n      <td>23</td>\n      <td>3</td>\n      <td>1702</td>\n      <td>1</td>\n      <td>19</td>\n      <td>1</td>\n      <td>55</td>\n      <td>50</td>\n      <td>12</td>\n      <td>2</td>\n      <td>14</td>\n      <td>1703</td>\n      <td>105</td>\n    </tr>\n  </tbody>\n</table>\n</div>"
     },
     "execution_count": 12,
     "metadata": {},
     "output_type": "execute_result"
    }
   ],
   "source": [
    "# consider all different types of trucks as one truck, all types of cars as one car, and all transporter as one transporter\n",
    "# a_dataframe[\"AB\"] = a_dataframe[\"A\"] + a_dataframe[\"B\"]\n",
    "classified_vehicles_from_sixteen_to_eighteen[\"All_Trucks\"] = classified_vehicles_from_sixteen_to_eighteen[\"TRUCK\"] + classified_vehicles_from_sixteen_to_eighteen[\"TRUCK_W_TRAILER\"]\n",
    "classified_vehicles_from_sixteen_to_eighteen[\"All_Cars\"] = classified_vehicles_from_sixteen_to_eighteen[\"CAR_W_TRAILER\"] + classified_vehicles_from_sixteen_to_eighteen[\"CAR\"]\n",
    "classified_vehicles_from_sixteen_to_eighteen[\"All_Transporters\"] = classified_vehicles_from_sixteen_to_eighteen[\"TRANSPORTER_WO_WINDOW\"] + classified_vehicles_from_sixteen_to_eighteen[\"TRANSPORTER_W_WINDOW\"]\n",
    "classified_vehicles_from_sixteen_to_eighteen"
   ],
   "metadata": {
    "collapsed": false,
    "pycharm": {
     "name": "#%%\n"
    }
   }
  },
  {
   "cell_type": "code",
   "execution_count": 13,
   "outputs": [
    {
     "data": {
      "text/plain": "class   BUS  All_Trucks  All_Cars  All_Transporters\norigin                                             \nA         0           8       733                39\nB         2          14      1143                74\nD         3          14      1703               105",
      "text/html": "<div>\n<style scoped>\n    .dataframe tbody tr th:only-of-type {\n        vertical-align: middle;\n    }\n\n    .dataframe tbody tr th {\n        vertical-align: top;\n    }\n\n    .dataframe thead th {\n        text-align: right;\n    }\n</style>\n<table border=\"1\" class=\"dataframe\">\n  <thead>\n    <tr style=\"text-align: right;\">\n      <th>class</th>\n      <th>BUS</th>\n      <th>All_Trucks</th>\n      <th>All_Cars</th>\n      <th>All_Transporters</th>\n    </tr>\n    <tr>\n      <th>origin</th>\n      <th></th>\n      <th></th>\n      <th></th>\n      <th></th>\n    </tr>\n  </thead>\n  <tbody>\n    <tr>\n      <th>A</th>\n      <td>0</td>\n      <td>8</td>\n      <td>733</td>\n      <td>39</td>\n    </tr>\n    <tr>\n      <th>B</th>\n      <td>2</td>\n      <td>14</td>\n      <td>1143</td>\n      <td>74</td>\n    </tr>\n    <tr>\n      <th>D</th>\n      <td>3</td>\n      <td>14</td>\n      <td>1703</td>\n      <td>105</td>\n    </tr>\n  </tbody>\n</table>\n</div>"
     },
     "execution_count": 13,
     "metadata": {},
     "output_type": "execute_result"
    }
   ],
   "source": [
    "#Drop some columns\n",
    "summarized_vehicles = classified_vehicles_from_sixteen_to_eighteen.drop(columns=[\"BICYCLE\",\"CAR\",\"CAR_W_TRAILER\",\"MOTORBIKE\",\"SEMI_TRAILER_TRUCK\",\"TRANSPORTER_WO_WINDOW\",\"TRANSPORTER_W_WINDOW\",\"TRUCK\",\"TRUCK_W_TRAILER\"])\n",
    "summarized_vehicles\n"
   ],
   "metadata": {
    "collapsed": false,
    "pycharm": {
     "name": "#%%\n"
    }
   }
  }
 ],
 "metadata": {
  "kernelspec": {
   "display_name": "Python 3",
   "language": "python",
   "name": "python3"
  },
  "language_info": {
   "codemirror_mode": {
    "name": "ipython",
    "version": 2
   },
   "file_extension": ".py",
   "mimetype": "text/x-python",
   "name": "python",
   "nbconvert_exporter": "python",
   "pygments_lexer": "ipython2",
   "version": "2.7.6"
  }
 },
 "nbformat": 4,
 "nbformat_minor": 0
}