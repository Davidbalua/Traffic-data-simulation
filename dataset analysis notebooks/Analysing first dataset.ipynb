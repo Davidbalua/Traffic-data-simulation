{
 "cells": [
  {
   "cell_type": "code",
   "execution_count": 111,
   "metadata": {
    "collapsed": true
   },
   "outputs": [],
   "source": [
    "from datetime  import datetime\n",
    "import pandas as pd\n",
    "import numpy as np\n",
    "import matplotlib.pyplot as plt\n"
   ]
  },
  {
   "cell_type": "code",
   "execution_count": 112,
   "outputs": [],
   "source": [
    "first_file = pd.read_csv(\"data/induction loops data/1_EF_LSA_K251_q/pwpTMP_2021-11-19_14 31 10_Diagramm1.csv\",sep='\\t',encoding='latin-1')"
   ],
   "metadata": {
    "collapsed": false,
    "pycharm": {
     "name": "#%%\n"
    }
   }
  },
  {
   "cell_type": "code",
   "execution_count": 113,
   "outputs": [],
   "source": [
    "name_sensors = {\"EF_LSA_K251_D001_IS1_1\":[10,20,30], \"EF_LSA_K251_D002_IS1\":[20,30,40]}"
   ],
   "metadata": {
    "collapsed": false,
    "pycharm": {
     "name": "#%%\n"
    }
   }
  },
  {
   "cell_type": "code",
   "execution_count": 114,
   "outputs": [],
   "source": [
    "# first_file[\"EF_LSA_K251_D001_IS1_1 - Quelle: modules/traffic-detection/1020 - Fz.-Klasse: Alle - Kenngr.: Verkehrsstärke - Einheit: Kfz/h\"]\n"
   ],
   "metadata": {
    "collapsed": false,
    "pycharm": {
     "name": "#%%\n"
    }
   }
  },
  {
   "cell_type": "code",
   "execution_count": 115,
   "outputs": [],
   "source": [
    "first_file['Zeit'] = pd.to_datetime(first_file['Zeit'], format=\"%a %b %d %Y %H:%M:%S GMT+0100 (Mitteleuropäische Normalzeit)\")"
   ],
   "metadata": {
    "collapsed": false,
    "pycharm": {
     "name": "#%%\n"
    }
   }
  },
  {
   "cell_type": "code",
   "execution_count": 116,
   "outputs": [],
   "source": [
    "# Filter data in csv file and get the data on Nov 10 between 16 pM to 18 pM\n",
    "all_vehicles_from_sixteen_to_eighteen = first_file.loc[(first_file['Zeit'] > 'Tue Nov 10 2021 16:00:00')\n",
    "                                                           & (first_file['Zeit'] <= 'Tue Nov 10 2021 18:00:00')]"
   ],
   "metadata": {
    "collapsed": false,
    "pycharm": {
     "name": "#%%\n"
    }
   }
  },
  {
   "cell_type": "code",
   "execution_count": 117,
   "outputs": [
    {
     "data": {
      "text/plain": "                   Zeit  \\\n359 2021-11-10 18:00:00   \n360 2021-11-10 17:55:00   \n361 2021-11-10 17:50:00   \n362 2021-11-10 17:45:00   \n363 2021-11-10 17:40:00   \n364 2021-11-10 17:35:00   \n365 2021-11-10 17:30:00   \n366 2021-11-10 17:25:00   \n367 2021-11-10 17:20:00   \n368 2021-11-10 17:15:00   \n369 2021-11-10 17:10:00   \n370 2021-11-10 17:05:00   \n371 2021-11-10 17:00:00   \n372 2021-11-10 16:55:00   \n373 2021-11-10 16:50:00   \n374 2021-11-10 16:45:00   \n375 2021-11-10 16:40:00   \n376 2021-11-10 16:35:00   \n377 2021-11-10 16:30:00   \n378 2021-11-10 16:25:00   \n379 2021-11-10 16:20:00   \n380 2021-11-10 16:15:00   \n381 2021-11-10 16:10:00   \n382 2021-11-10 16:05:00   \n\n     EF_LSA_K251_D001_IS1_1 - Quelle: modules/traffic-detection/1020 - Fz.-Klasse: Alle - Kenngr.: Verkehrsstärke - Einheit: Kfz/h  \\\n359                                               72.0                                                                               \n360                                               60.0                                                                               \n361                                              132.0                                                                               \n362                                               72.0                                                                               \n363                                              144.0                                                                               \n364                                               96.0                                                                               \n365                                               84.0                                                                               \n366                                              108.0                                                                               \n367                                               96.0                                                                               \n368                                              180.0                                                                               \n369                                               84.0                                                                               \n370                                              120.0                                                                               \n371                                              156.0                                                                               \n372                                              144.0                                                                               \n373                                               84.0                                                                               \n374                                              132.0                                                                               \n375                                              132.0                                                                               \n376                                               96.0                                                                               \n377                                              168.0                                                                               \n378                                               72.0                                                                               \n379                                              156.0                                                                               \n380                                              168.0                                                                               \n381                                              204.0                                                                               \n382                                              300.0                                                                               \n\n     EF_LSA_K251_D002_IS1 - Quelle: modules/traffic-detection/1020 - Fz.-Klasse: Alle - Kenngr.: Verkehrsstärke - Einheit: Kfz/h  \\\n359                                               72.0                                                                             \n360                                               60.0                                                                             \n361                                               84.0                                                                             \n362                                              108.0                                                                             \n363                                              108.0                                                                             \n364                                               84.0                                                                             \n365                                               24.0                                                                             \n366                                              108.0                                                                             \n367                                               60.0                                                                             \n368                                              120.0                                                                             \n369                                              108.0                                                                             \n370                                               72.0                                                                             \n371                                              156.0                                                                             \n372                                              108.0                                                                             \n373                                               60.0                                                                             \n374                                              120.0                                                                             \n375                                               96.0                                                                             \n376                                               72.0                                                                             \n377                                              168.0                                                                             \n378                                               48.0                                                                             \n379                                              120.0                                                                             \n380                                              168.0                                                                             \n381                                              180.0                                                                             \n382                                              240.0                                                                             \n\n     EF_LSA_K251_D003_IS2 - Quelle: modules/traffic-detection/1020 - Fz.-Klasse: Alle - Kenngr.: Verkehrsstärke - Einheit: Kfz/h  \\\n359                                              312.0                                                                             \n360                                              276.0                                                                             \n361                                              216.0                                                                             \n362                                              288.0                                                                             \n363                                              348.0                                                                             \n364                                              204.0                                                                             \n365                                              288.0                                                                             \n366                                              300.0                                                                             \n367                                              336.0                                                                             \n368                                              300.0                                                                             \n369                                              372.0                                                                             \n370                                              324.0                                                                             \n371                                              408.0                                                                             \n372                                              372.0                                                                             \n373                                              300.0                                                                             \n374                                              336.0                                                                             \n375                                              408.0                                                                             \n376                                              432.0                                                                             \n377                                              480.0                                                                             \n378                                              408.0                                                                             \n379                                              444.0                                                                             \n380                                              444.0                                                                             \n381                                              468.0                                                                             \n382                                              444.0                                                                             \n\n     EF_LSA_K251_D004_IS3 - Quelle: modules/traffic-detection/1020 - Fz.-Klasse: Alle - Kenngr.: Verkehrsstärke - Einheit: Kfz/h  \\\n359                                              408.0                                                                             \n360                                              384.0                                                                             \n361                                              324.0                                                                             \n362                                              240.0                                                                             \n363                                              372.0                                                                             \n364                                              444.0                                                                             \n365                                              312.0                                                                             \n366                                              408.0                                                                             \n367                                              348.0                                                                             \n368                                              432.0                                                                             \n369                                              348.0                                                                             \n370                                              312.0                                                                             \n371                                              372.0                                                                             \n372                                              444.0                                                                             \n373                                              336.0                                                                             \n374                                              420.0                                                                             \n375                                              432.0                                                                             \n376                                              420.0                                                                             \n377                                              480.0                                                                             \n378                                              336.0                                                                             \n379                                              516.0                                                                             \n380                                              588.0                                                                             \n381                                              480.0                                                                             \n382                                              396.0                                                                             \n\n     EF_LSA_K251_D008_IS7 - Quelle: modules/traffic-detection/1020 - Fz.-Klasse: Alle - Kenngr.: Verkehrsstärke - Einheit: Kfz/h  \\\n359                                              336.0                                                                             \n360                                              348.0                                                                             \n361                                              264.0                                                                             \n362                                              288.0                                                                             \n363                                              288.0                                                                             \n364                                              336.0                                                                             \n365                                              396.0                                                                             \n366                                              420.0                                                                             \n367                                              288.0                                                                             \n368                                              216.0                                                                             \n369                                              336.0                                                                             \n370                                              300.0                                                                             \n371                                              324.0                                                                             \n372                                              396.0                                                                             \n373                                              324.0                                                                             \n374                                              480.0                                                                             \n375                                              384.0                                                                             \n376                                              360.0                                                                             \n377                                              468.0                                                                             \n378                                              360.0                                                                             \n379                                              276.0                                                                             \n380                                              300.0                                                                             \n381                                              348.0                                                                             \n382                                              348.0                                                                             \n\n     EF_LSA_K251_D009_IS8 - Quelle: modules/traffic-detection/1020 - Fz.-Klasse: Alle - Kenngr.: Verkehrsstärke - Einheit: Kfz/h  \\\n359                                              108.0                                                                             \n360                                               96.0                                                                             \n361                                               84.0                                                                             \n362                                               12.0                                                                             \n363                                              108.0                                                                             \n364                                              120.0                                                                             \n365                                              156.0                                                                             \n366                                               72.0                                                                             \n367                                               84.0                                                                             \n368                                               84.0                                                                             \n369                                               72.0                                                                             \n370                                               60.0                                                                             \n371                                              144.0                                                                             \n372                                              120.0                                                                             \n373                                              180.0                                                                             \n374                                               84.0                                                                             \n375                                              180.0                                                                             \n376                                              168.0                                                                             \n377                                              108.0                                                                             \n378                                               60.0                                                                             \n379                                              108.0                                                                             \n380                                              180.0                                                                             \n381                                              144.0                                                                             \n382                                              108.0                                                                             \n\n     EF_LSA_K251_D010_IS9 - Quelle: modules/traffic-detection/1020 - Fz.-Klasse: Alle - Kenngr.: Verkehrsstärke - Einheit: Kfz/h  \\\n359                                               24.0                                                                             \n360                                               12.0                                                                             \n361                                               60.0                                                                             \n362                                               24.0                                                                             \n363                                               12.0                                                                             \n364                                               72.0                                                                             \n365                                               24.0                                                                             \n366                                               36.0                                                                             \n367                                               96.0                                                                             \n368                                               36.0                                                                             \n369                                               36.0                                                                             \n370                                               48.0                                                                             \n371                                               36.0                                                                             \n372                                               84.0                                                                             \n373                                               84.0                                                                             \n374                                              108.0                                                                             \n375                                               72.0                                                                             \n376                                               60.0                                                                             \n377                                               48.0                                                                             \n378                                               48.0                                                                             \n379                                              144.0                                                                             \n380                                               96.0                                                                             \n381                                               60.0                                                                             \n382                                               72.0                                                                             \n\n     EF_LSA_K251_D012_IS11 - Quelle: modules/traffic-detection/1020 - Fz.-Klasse: Alle - Kenngr.: Verkehrsstärke - Einheit: Kfz/h  \\\n359                                                0.0                                                                              \n360                                                0.0                                                                              \n361                                                0.0                                                                              \n362                                                0.0                                                                              \n363                                                0.0                                                                              \n364                                                0.0                                                                              \n365                                                0.0                                                                              \n366                                                0.0                                                                              \n367                                                0.0                                                                              \n368                                                0.0                                                                              \n369                                                0.0                                                                              \n370                                                0.0                                                                              \n371                                                0.0                                                                              \n372                                                0.0                                                                              \n373                                                0.0                                                                              \n374                                                0.0                                                                              \n375                                                0.0                                                                              \n376                                                0.0                                                                              \n377                                                0.0                                                                              \n378                                                0.0                                                                              \n379                                                0.0                                                                              \n380                                                0.0                                                                              \n381                                                0.0                                                                              \n382                                                0.0                                                                              \n\n     EF_LSA_K251_D011_IS10 - Quelle: modules/traffic-detection/1020 - Fz.-Klasse: Alle - Kenngr.: Verkehrsstärke - Einheit: Kfz/h  \n359                                                0.0                                                                             \n360                                                0.0                                                                             \n361                                                0.0                                                                             \n362                                                0.0                                                                             \n363                                                0.0                                                                             \n364                                                0.0                                                                             \n365                                                0.0                                                                             \n366                                                0.0                                                                             \n367                                                0.0                                                                             \n368                                                0.0                                                                             \n369                                                0.0                                                                             \n370                                                0.0                                                                             \n371                                                0.0                                                                             \n372                                                0.0                                                                             \n373                                                0.0                                                                             \n374                                                0.0                                                                             \n375                                                0.0                                                                             \n376                                                0.0                                                                             \n377                                                0.0                                                                             \n378                                                0.0                                                                             \n379                                                0.0                                                                             \n380                                                0.0                                                                             \n381                                                0.0                                                                             \n382                                                0.0                                                                             ",
      "text/html": "<div>\n<style scoped>\n    .dataframe tbody tr th:only-of-type {\n        vertical-align: middle;\n    }\n\n    .dataframe tbody tr th {\n        vertical-align: top;\n    }\n\n    .dataframe thead th {\n        text-align: right;\n    }\n</style>\n<table border=\"1\" class=\"dataframe\">\n  <thead>\n    <tr style=\"text-align: right;\">\n      <th></th>\n      <th>Zeit</th>\n      <th>EF_LSA_K251_D001_IS1_1 - Quelle: modules/traffic-detection/1020 - Fz.-Klasse: Alle - Kenngr.: Verkehrsstärke - Einheit: Kfz/h</th>\n      <th>EF_LSA_K251_D002_IS1 - Quelle: modules/traffic-detection/1020 - Fz.-Klasse: Alle - Kenngr.: Verkehrsstärke - Einheit: Kfz/h</th>\n      <th>EF_LSA_K251_D003_IS2 - Quelle: modules/traffic-detection/1020 - Fz.-Klasse: Alle - Kenngr.: Verkehrsstärke - Einheit: Kfz/h</th>\n      <th>EF_LSA_K251_D004_IS3 - Quelle: modules/traffic-detection/1020 - Fz.-Klasse: Alle - Kenngr.: Verkehrsstärke - Einheit: Kfz/h</th>\n      <th>EF_LSA_K251_D008_IS7 - Quelle: modules/traffic-detection/1020 - Fz.-Klasse: Alle - Kenngr.: Verkehrsstärke - Einheit: Kfz/h</th>\n      <th>EF_LSA_K251_D009_IS8 - Quelle: modules/traffic-detection/1020 - Fz.-Klasse: Alle - Kenngr.: Verkehrsstärke - Einheit: Kfz/h</th>\n      <th>EF_LSA_K251_D010_IS9 - Quelle: modules/traffic-detection/1020 - Fz.-Klasse: Alle - Kenngr.: Verkehrsstärke - Einheit: Kfz/h</th>\n      <th>EF_LSA_K251_D012_IS11 - Quelle: modules/traffic-detection/1020 - Fz.-Klasse: Alle - Kenngr.: Verkehrsstärke - Einheit: Kfz/h</th>\n      <th>EF_LSA_K251_D011_IS10 - Quelle: modules/traffic-detection/1020 - Fz.-Klasse: Alle - Kenngr.: Verkehrsstärke - Einheit: Kfz/h</th>\n    </tr>\n  </thead>\n  <tbody>\n    <tr>\n      <th>359</th>\n      <td>2021-11-10 18:00:00</td>\n      <td>72.0</td>\n      <td>72.0</td>\n      <td>312.0</td>\n      <td>408.0</td>\n      <td>336.0</td>\n      <td>108.0</td>\n      <td>24.0</td>\n      <td>0.0</td>\n      <td>0.0</td>\n    </tr>\n    <tr>\n      <th>360</th>\n      <td>2021-11-10 17:55:00</td>\n      <td>60.0</td>\n      <td>60.0</td>\n      <td>276.0</td>\n      <td>384.0</td>\n      <td>348.0</td>\n      <td>96.0</td>\n      <td>12.0</td>\n      <td>0.0</td>\n      <td>0.0</td>\n    </tr>\n    <tr>\n      <th>361</th>\n      <td>2021-11-10 17:50:00</td>\n      <td>132.0</td>\n      <td>84.0</td>\n      <td>216.0</td>\n      <td>324.0</td>\n      <td>264.0</td>\n      <td>84.0</td>\n      <td>60.0</td>\n      <td>0.0</td>\n      <td>0.0</td>\n    </tr>\n    <tr>\n      <th>362</th>\n      <td>2021-11-10 17:45:00</td>\n      <td>72.0</td>\n      <td>108.0</td>\n      <td>288.0</td>\n      <td>240.0</td>\n      <td>288.0</td>\n      <td>12.0</td>\n      <td>24.0</td>\n      <td>0.0</td>\n      <td>0.0</td>\n    </tr>\n    <tr>\n      <th>363</th>\n      <td>2021-11-10 17:40:00</td>\n      <td>144.0</td>\n      <td>108.0</td>\n      <td>348.0</td>\n      <td>372.0</td>\n      <td>288.0</td>\n      <td>108.0</td>\n      <td>12.0</td>\n      <td>0.0</td>\n      <td>0.0</td>\n    </tr>\n    <tr>\n      <th>364</th>\n      <td>2021-11-10 17:35:00</td>\n      <td>96.0</td>\n      <td>84.0</td>\n      <td>204.0</td>\n      <td>444.0</td>\n      <td>336.0</td>\n      <td>120.0</td>\n      <td>72.0</td>\n      <td>0.0</td>\n      <td>0.0</td>\n    </tr>\n    <tr>\n      <th>365</th>\n      <td>2021-11-10 17:30:00</td>\n      <td>84.0</td>\n      <td>24.0</td>\n      <td>288.0</td>\n      <td>312.0</td>\n      <td>396.0</td>\n      <td>156.0</td>\n      <td>24.0</td>\n      <td>0.0</td>\n      <td>0.0</td>\n    </tr>\n    <tr>\n      <th>366</th>\n      <td>2021-11-10 17:25:00</td>\n      <td>108.0</td>\n      <td>108.0</td>\n      <td>300.0</td>\n      <td>408.0</td>\n      <td>420.0</td>\n      <td>72.0</td>\n      <td>36.0</td>\n      <td>0.0</td>\n      <td>0.0</td>\n    </tr>\n    <tr>\n      <th>367</th>\n      <td>2021-11-10 17:20:00</td>\n      <td>96.0</td>\n      <td>60.0</td>\n      <td>336.0</td>\n      <td>348.0</td>\n      <td>288.0</td>\n      <td>84.0</td>\n      <td>96.0</td>\n      <td>0.0</td>\n      <td>0.0</td>\n    </tr>\n    <tr>\n      <th>368</th>\n      <td>2021-11-10 17:15:00</td>\n      <td>180.0</td>\n      <td>120.0</td>\n      <td>300.0</td>\n      <td>432.0</td>\n      <td>216.0</td>\n      <td>84.0</td>\n      <td>36.0</td>\n      <td>0.0</td>\n      <td>0.0</td>\n    </tr>\n    <tr>\n      <th>369</th>\n      <td>2021-11-10 17:10:00</td>\n      <td>84.0</td>\n      <td>108.0</td>\n      <td>372.0</td>\n      <td>348.0</td>\n      <td>336.0</td>\n      <td>72.0</td>\n      <td>36.0</td>\n      <td>0.0</td>\n      <td>0.0</td>\n    </tr>\n    <tr>\n      <th>370</th>\n      <td>2021-11-10 17:05:00</td>\n      <td>120.0</td>\n      <td>72.0</td>\n      <td>324.0</td>\n      <td>312.0</td>\n      <td>300.0</td>\n      <td>60.0</td>\n      <td>48.0</td>\n      <td>0.0</td>\n      <td>0.0</td>\n    </tr>\n    <tr>\n      <th>371</th>\n      <td>2021-11-10 17:00:00</td>\n      <td>156.0</td>\n      <td>156.0</td>\n      <td>408.0</td>\n      <td>372.0</td>\n      <td>324.0</td>\n      <td>144.0</td>\n      <td>36.0</td>\n      <td>0.0</td>\n      <td>0.0</td>\n    </tr>\n    <tr>\n      <th>372</th>\n      <td>2021-11-10 16:55:00</td>\n      <td>144.0</td>\n      <td>108.0</td>\n      <td>372.0</td>\n      <td>444.0</td>\n      <td>396.0</td>\n      <td>120.0</td>\n      <td>84.0</td>\n      <td>0.0</td>\n      <td>0.0</td>\n    </tr>\n    <tr>\n      <th>373</th>\n      <td>2021-11-10 16:50:00</td>\n      <td>84.0</td>\n      <td>60.0</td>\n      <td>300.0</td>\n      <td>336.0</td>\n      <td>324.0</td>\n      <td>180.0</td>\n      <td>84.0</td>\n      <td>0.0</td>\n      <td>0.0</td>\n    </tr>\n    <tr>\n      <th>374</th>\n      <td>2021-11-10 16:45:00</td>\n      <td>132.0</td>\n      <td>120.0</td>\n      <td>336.0</td>\n      <td>420.0</td>\n      <td>480.0</td>\n      <td>84.0</td>\n      <td>108.0</td>\n      <td>0.0</td>\n      <td>0.0</td>\n    </tr>\n    <tr>\n      <th>375</th>\n      <td>2021-11-10 16:40:00</td>\n      <td>132.0</td>\n      <td>96.0</td>\n      <td>408.0</td>\n      <td>432.0</td>\n      <td>384.0</td>\n      <td>180.0</td>\n      <td>72.0</td>\n      <td>0.0</td>\n      <td>0.0</td>\n    </tr>\n    <tr>\n      <th>376</th>\n      <td>2021-11-10 16:35:00</td>\n      <td>96.0</td>\n      <td>72.0</td>\n      <td>432.0</td>\n      <td>420.0</td>\n      <td>360.0</td>\n      <td>168.0</td>\n      <td>60.0</td>\n      <td>0.0</td>\n      <td>0.0</td>\n    </tr>\n    <tr>\n      <th>377</th>\n      <td>2021-11-10 16:30:00</td>\n      <td>168.0</td>\n      <td>168.0</td>\n      <td>480.0</td>\n      <td>480.0</td>\n      <td>468.0</td>\n      <td>108.0</td>\n      <td>48.0</td>\n      <td>0.0</td>\n      <td>0.0</td>\n    </tr>\n    <tr>\n      <th>378</th>\n      <td>2021-11-10 16:25:00</td>\n      <td>72.0</td>\n      <td>48.0</td>\n      <td>408.0</td>\n      <td>336.0</td>\n      <td>360.0</td>\n      <td>60.0</td>\n      <td>48.0</td>\n      <td>0.0</td>\n      <td>0.0</td>\n    </tr>\n    <tr>\n      <th>379</th>\n      <td>2021-11-10 16:20:00</td>\n      <td>156.0</td>\n      <td>120.0</td>\n      <td>444.0</td>\n      <td>516.0</td>\n      <td>276.0</td>\n      <td>108.0</td>\n      <td>144.0</td>\n      <td>0.0</td>\n      <td>0.0</td>\n    </tr>\n    <tr>\n      <th>380</th>\n      <td>2021-11-10 16:15:00</td>\n      <td>168.0</td>\n      <td>168.0</td>\n      <td>444.0</td>\n      <td>588.0</td>\n      <td>300.0</td>\n      <td>180.0</td>\n      <td>96.0</td>\n      <td>0.0</td>\n      <td>0.0</td>\n    </tr>\n    <tr>\n      <th>381</th>\n      <td>2021-11-10 16:10:00</td>\n      <td>204.0</td>\n      <td>180.0</td>\n      <td>468.0</td>\n      <td>480.0</td>\n      <td>348.0</td>\n      <td>144.0</td>\n      <td>60.0</td>\n      <td>0.0</td>\n      <td>0.0</td>\n    </tr>\n    <tr>\n      <th>382</th>\n      <td>2021-11-10 16:05:00</td>\n      <td>300.0</td>\n      <td>240.0</td>\n      <td>444.0</td>\n      <td>396.0</td>\n      <td>348.0</td>\n      <td>108.0</td>\n      <td>72.0</td>\n      <td>0.0</td>\n      <td>0.0</td>\n    </tr>\n  </tbody>\n</table>\n</div>"
     },
     "execution_count": 117,
     "metadata": {},
     "output_type": "execute_result"
    }
   ],
   "source": [
    "all_vehicles_from_sixteen_to_eighteen"
   ],
   "metadata": {
    "collapsed": false,
    "pycharm": {
     "name": "#%%\n"
    }
   }
  },
  {
   "cell_type": "code",
   "execution_count": 118,
   "outputs": [],
   "source": [
    "columns = all_vehicles_from_sixteen_to_eighteen.columns"
   ],
   "metadata": {
    "collapsed": false,
    "pycharm": {
     "name": "#%%\n"
    }
   }
  },
  {
   "cell_type": "code",
   "execution_count": 119,
   "outputs": [
    {
     "data": {
      "text/plain": "'EF_LSA_K251_D001_IS1_1'"
     },
     "execution_count": 119,
     "metadata": {},
     "output_type": "execute_result"
    }
   ],
   "source": [
    "columns[1].strip().split(sep=\"-\")[0].strip()"
   ],
   "metadata": {
    "collapsed": false,
    "pycharm": {
     "name": "#%%\n"
    }
   }
  },
  {
   "cell_type": "code",
   "execution_count": 120,
   "outputs": [],
   "source": [
    "one_sensor=all_vehicles_from_sixteen_to_eighteen[columns[1]]"
   ],
   "metadata": {
    "collapsed": false,
    "pycharm": {
     "name": "#%%\n"
    }
   }
  },
  {
   "cell_type": "code",
   "execution_count": 121,
   "outputs": [
    {
     "data": {
      "text/plain": "359     72.0\n360     60.0\n361    132.0\n362     72.0\n363    144.0\n364     96.0\n365     84.0\n366    108.0\n367     96.0\n368    180.0\n369     84.0\n370    120.0\n371    156.0\n372    144.0\n373     84.0\n374    132.0\n375    132.0\n376     96.0\n377    168.0\n378     72.0\n379    156.0\n380    168.0\n381    204.0\n382    300.0\nName: EF_LSA_K251_D001_IS1_1 - Quelle: modules/traffic-detection/1020 - Fz.-Klasse: Alle - Kenngr.: Verkehrsstärke - Einheit: Kfz/h, dtype: float64"
     },
     "execution_count": 121,
     "metadata": {},
     "output_type": "execute_result"
    }
   ],
   "source": [
    "one_sensor"
   ],
   "metadata": {
    "collapsed": false,
    "pycharm": {
     "name": "#%%\n"
    }
   }
  },
  {
   "cell_type": "code",
   "execution_count": 122,
   "outputs": [],
   "source": [
    "dic_of_sensor = one_sensor.to_dict()\n"
   ],
   "metadata": {
    "collapsed": false,
    "pycharm": {
     "name": "#%%\n"
    }
   }
  },
  {
   "cell_type": "code",
   "execution_count": 123,
   "outputs": [
    {
     "data": {
      "text/plain": "{359: 72.0,\n 360: 60.0,\n 361: 132.0,\n 362: 72.0,\n 363: 144.0,\n 364: 96.0,\n 365: 84.0,\n 366: 108.0,\n 367: 96.0,\n 368: 180.0,\n 369: 84.0,\n 370: 120.0,\n 371: 156.0,\n 372: 144.0,\n 373: 84.0,\n 374: 132.0,\n 375: 132.0,\n 376: 96.0,\n 377: 168.0,\n 378: 72.0,\n 379: 156.0,\n 380: 168.0,\n 381: 204.0,\n 382: 300.0}"
     },
     "execution_count": 123,
     "metadata": {},
     "output_type": "execute_result"
    }
   ],
   "source": [
    "dic_of_sensor"
   ],
   "metadata": {
    "collapsed": false,
    "pycharm": {
     "name": "#%%\n"
    }
   }
  },
  {
   "cell_type": "code",
   "execution_count": 124,
   "outputs": [],
   "source": [
    "array =[value for value in dic_of_sensor.values()]"
   ],
   "metadata": {
    "collapsed": false,
    "pycharm": {
     "name": "#%%\n"
    }
   }
  },
  {
   "cell_type": "code",
   "execution_count": 125,
   "outputs": [
    {
     "data": {
      "text/plain": "[72.0,\n 60.0,\n 132.0,\n 72.0,\n 144.0,\n 96.0,\n 84.0,\n 108.0,\n 96.0,\n 180.0,\n 84.0,\n 120.0,\n 156.0,\n 144.0,\n 84.0,\n 132.0,\n 132.0,\n 96.0,\n 168.0,\n 72.0,\n 156.0,\n 168.0,\n 204.0,\n 300.0]"
     },
     "execution_count": 125,
     "metadata": {},
     "output_type": "execute_result"
    }
   ],
   "source": [
    "array"
   ],
   "metadata": {
    "collapsed": false,
    "pycharm": {
     "name": "#%%\n"
    }
   }
  },
  {
   "cell_type": "code",
   "execution_count": 126,
   "outputs": [],
   "source": [
    "one_sensor = all_vehicles_from_sixteen_to_eighteen[\"EF_LSA_K251_D001_IS1_1 - Quelle: modules/traffic-detection/1020 - Fz.-Klasse: Alle - Kenngr.: Verkehrsstärke - Einheit: Kfz/h\"]"
   ],
   "metadata": {
    "collapsed": false,
    "pycharm": {
     "name": "#%%\n"
    }
   }
  },
  {
   "cell_type": "code",
   "execution_count": 127,
   "outputs": [],
   "source": [
    "# dic  = one_sensor.to_dict(orient='list')"
   ],
   "metadata": {
    "collapsed": false,
    "pycharm": {
     "name": "#%%\n"
    }
   }
  },
  {
   "cell_type": "code",
   "execution_count": 128,
   "outputs": [],
   "source": [
    "# dic"
   ],
   "metadata": {
    "collapsed": false,
    "pycharm": {
     "name": "#%%\n"
    }
   }
  },
  {
   "cell_type": "code",
   "execution_count": 129,
   "outputs": [],
   "source": [
    "# final_sensors = {}\n",
    "# array_of_values = []\n",
    "# #https://pandas.pydata.org/docs/reference/api/pandas.DataFrame.to_dict.html\n",
    "# for value in dic.values():\n",
    "#     array_of_values.append(value)\n",
    "# final_sensors[name_sensors] = array_of_values"
   ],
   "metadata": {
    "collapsed": false,
    "pycharm": {
     "name": "#%%\n"
    }
   }
  },
  {
   "cell_type": "code",
   "execution_count": 130,
   "outputs": [],
   "source": [
    "# sensors = []\n",
    "# for sensor_name, data in name_sensors.items():\n",
    "#     for real_name in first_file.columns:\n",
    "#         if sensor_name in real_name:\n",
    "#             print(sensor_name)\n",
    "#             print(first_file[real_name])\n"
   ],
   "metadata": {
    "collapsed": false,
    "pycharm": {
     "name": "#%%\n"
    }
   }
  },
  {
   "cell_type": "code",
   "execution_count": 130,
   "outputs": [],
   "source": [],
   "metadata": {
    "collapsed": false,
    "pycharm": {
     "name": "#%%\n"
    }
   }
  }
 ],
 "metadata": {
  "kernelspec": {
   "display_name": "Python 3",
   "language": "python",
   "name": "python3"
  },
  "language_info": {
   "codemirror_mode": {
    "name": "ipython",
    "version": 2
   },
   "file_extension": ".py",
   "mimetype": "text/x-python",
   "name": "python",
   "nbconvert_exporter": "python",
   "pygments_lexer": "ipython2",
   "version": "2.7.6"
  }
 },
 "nbformat": 4,
 "nbformat_minor": 0
}