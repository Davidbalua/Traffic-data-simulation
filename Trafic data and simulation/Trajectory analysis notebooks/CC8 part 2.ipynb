{
 "cells": [
  {
   "cell_type": "code",
   "execution_count": null,
   "metadata": {
    "collapsed": true
   },
   "outputs": [],
   "source": []
  },
  {
   "cell_type": "code",
   "execution_count": 1,
   "outputs": [],
   "source": [
    "# Simulation-Uhrzeit: Simulationszeit als Uhrzeit [hh:mm:ss] = simulation time\n",
    "# Simulationssekunde: Simulationzeit\n",
    "#Fahrzeugprotokol = Vehicle record\n",
    "#Eindeutige Fahrzeugnummer = Vehicle number\n",
    "#Entfernung auf der Strecke vom Beginn der Strecke oder Verbindungsstrecke = Position\n",
    "#Querposition am Ende des Zeitschritts. Wertebereich 0-1:   = Position LAT\n",
    "# 0: an der rechten Fahrstreifenkante\n",
    "# 0.5: Mitte des Fahrstreifens\n",
    "# 1: an der linken Fahrstreifenkante\n",
    "\n",
    "# Beschleinigung = acceleration\n",
    "# Geschwindigkeit = Speed\n",
    "\n",
    "# Zeit im Netz : Die gesamte Zeit, die ein Fahrzeug im Netz ist:\n",
    "# Der Wert wird erst in der letzten Sekunde, bevor das Fahrzeug das Netz verlässt, gespeichert.\n",
    "# Protokollieren Sie in diesem Zeitschritt auch die Verlustzeit für das Fahrzeug.\n",
    "# Für Fahrzeuge, die sich am Ende der Simulation noch im Netz befinden, können Sie die Gesamtzeit anhand ihrer Einsetzzeit ermitteln.\n",
    "\n",
    "# https://datatofish.com/descriptive-statistics-pandas/\n",
    "# https://stackoverflow.com/questions/10138085/how-to-plot-normal-distribution\n",
    "\n",
    "# variance:\n",
    "# https://blog.finxter.com/how-to-calculate-the-column-variance-of-a-dataframe-in-python-pandas/\n",
    "# axis = 0 is Row, axis = 1 is Column\n",
    "#simulation second is from 0 to 7200.0\n",
    "# steps are 0.5, 0.6, 0.7\n",
    "\n",
    "# Vehicle type is 100, 150, 200, 300\n",
    "# 100 = car, 150 = transporter, 200 = HGV, 300 = bus"
   ],
   "metadata": {
    "collapsed": false,
    "pycharm": {
     "name": "#%%\n"
    }
   }
  },
  {
   "cell_type": "code",
   "execution_count": 2,
   "outputs": [],
   "source": [
    "from datetime import datetime\n",
    "import pandas as pd\n",
    "import numpy as np\n",
    "import matplotlib.pyplot as plt\n"
   ],
   "metadata": {
    "collapsed": false,
    "pycharm": {
     "name": "#%%\n"
    }
   }
  },
  {
   "cell_type": "code",
   "execution_count": 3,
   "outputs": [],
   "source": [
    "# this method manages the drawing part\n",
    "def set_up_sketch_x_position() -> \"tuple of (ax1,ax2,ax3)\":\n",
    "\n",
    "    xticks = np.arange(0, 320, 10)\n",
    "    fig, (ax1, ax2, ax3) = plt.subplots(figsize=(20, 10), nrows=3, ncols=1)\n",
    "    #https://matplotlib.org/stable/api/_as_gen/matplotlib.axes.Axes.tick_params.html\n",
    "    ax1.tick_params(axis=\"both\", length=15, direction=\"inout\", color=\"blue\", labelcolor=\"red\")\n",
    "    ax1.spines[\"bottom\"].set_color(\"red\")\n",
    "    ax1.spines[\"left\"].set_color(\"red\")\n",
    "    ax1.set_xticks(xticks)\n",
    "    ax1.set_xlabel(\"Position(m)\", color=\"red\")\n",
    "    ax1.set_ylabel(\"Speed(km/hr)\", color=\"red\")\n",
    "    ax1.grid(\"on\", alpha=0.2)\n",
    "\n",
    "    ax2.tick_params(axis=\"both\", length=15, direction=\"inout\", color=\"blue\", labelcolor=\"red\")\n",
    "    ax2.spines[\"bottom\"].set_color(\"red\")\n",
    "    ax2.spines[\"left\"].set_color(\"red\")\n",
    "    ax2.set_xticks(xticks)\n",
    "    ax2.set_xlabel(\"Position(m)\", color=\"red\")\n",
    "    ax2.set_xticks(xticks)\n",
    "    ax2.set_xlabel(\"Position(m)\", color=\"red\")\n",
    "    ax2.set_ylabel(\"Simulation time(second)\", color=\"red\")\n",
    "    ax2.grid(\"on\", alpha=0.2)\n",
    "\n",
    "    ax3.tick_params(axis=\"both\", length=15, direction=\"inout\", color=\"blue\", labelcolor=\"red\")\n",
    "    ax3.spines[\"bottom\"].set_color(\"red\")\n",
    "    ax3.spines[\"left\"].set_color(\"red\")\n",
    "    ax3.set_xticks(xticks)\n",
    "    ax3.set_xlabel(\"position\", color=\"red\")\n",
    "    ax3.set_ylabel(\"Acceleration(m/s2)\", color=\"red\")\n",
    "    ax3.grid(\"on\", alpha=0.2)\n",
    "    return (ax1,ax2,ax3)"
   ],
   "metadata": {
    "collapsed": false,
    "pycharm": {
     "name": "#%%\n"
    }
   }
  },
  {
   "cell_type": "code",
   "execution_count": 4,
   "outputs": [
    {
     "data": {
      "text/plain": "4090"
     },
     "execution_count": 4,
     "metadata": {},
     "output_type": "execute_result"
    }
   ],
   "source": [
    "# base scenario\n",
    "\n",
    "#change the vehicle type from number to name\n",
    "vehicle_routes_based = pd.read_csv(\"data/Trajectories/GothaerPlatz - baseline.csv\")\n",
    "#change the vehicle type from number to name\n",
    "vehicle_routes_based['VEHTYPE'].replace(to_replace=[100, 150, 200, 300], value=[\"Car\", \"Transporter\", \"HGV\", \"Bus\"],\n",
    "                                        inplace=True)\n",
    "len(vehicle_routes_based)\n",
    "# show the unique cars\n",
    "number_of_cars_based_scenario = vehicle_routes_based[\"$VEHICLE:NO\"].unique()\n",
    "# total number of cars in the network in the based scenario\n",
    "len(number_of_cars_based_scenario)\n",
    "\n",
    "\n"
   ],
   "metadata": {
    "collapsed": false,
    "pycharm": {
     "name": "#%%\n"
    }
   }
  },
  {
   "cell_type": "code",
   "execution_count": 5,
   "outputs": [
    {
     "data": {
      "text/plain": "4090"
     },
     "execution_count": 5,
     "metadata": {},
     "output_type": "execute_result"
    }
   ],
   "source": [
    "# scenario1\n",
    "vehicle_routes_scenario1 = pd.read_csv(\"data/Trajectories/GothaerPlatz - Scenario 1.csv\")\n",
    "#change the vehicle type from number to name\n",
    "vehicle_routes_scenario1['VEHTYPE'].replace(to_replace=[100, 150, 200, 300], value=[\"Car\", \"Transporter\", \"HGV\", \"Bus\"],\n",
    "                                            inplace=True)\n",
    "len(vehicle_routes_scenario1)\n",
    "# show the unique cars\n",
    "number_of_cars_scenario1 = vehicle_routes_scenario1[\"$VEHICLE:NO\"].unique()\n",
    "# total number of cars in the network in the scenario1\n",
    "len(number_of_cars_scenario1)"
   ],
   "metadata": {
    "collapsed": false,
    "pycharm": {
     "name": "#%%\n"
    }
   }
  },
  {
   "cell_type": "code",
   "execution_count": 6,
   "outputs": [
    {
     "data": {
      "text/plain": "4090"
     },
     "execution_count": 6,
     "metadata": {},
     "output_type": "execute_result"
    }
   ],
   "source": [
    "# scenario2\n",
    "vehicle_routes_scenario2 = pd.read_csv(\"data/Trajectories/GothaerPlatz - Scenario 2.csv\")\n",
    "#change the vehicle type from number to name\n",
    "vehicle_routes_scenario2['VEHTYPE'].replace(to_replace=[100, 150, 200, 300], value=[\"Car\", \"Transporter\", \"HGV\", \"Bus\"],\n",
    "                                            inplace=True)\n",
    "len(vehicle_routes_scenario2)\n",
    "# show the unique cars\n",
    "number_of_cars_scenario2 = vehicle_routes_scenario2[\"$VEHICLE:NO\"].unique()\n",
    "# total number of cars in the network in the scenario2\n",
    "len(number_of_cars_scenario2)\n"
   ],
   "metadata": {
    "collapsed": false,
    "pycharm": {
     "name": "#%%\n"
    }
   }
  },
  {
   "cell_type": "code",
   "execution_count": 7,
   "outputs": [
    {
     "data": {
      "text/plain": "317"
     },
     "execution_count": 7,
     "metadata": {},
     "output_type": "execute_result"
    }
   ],
   "source": [
    "#scenario 3 cc8 = 10 and max and desired functions are 10\n",
    "#change the vehicle type from number to name\n",
    "vehicle_routes_scenario3 = pd.read_csv(\"data/Trajectories/GothaerPlatz_0_to_500_seconds_cc8_10.csv\")\n",
    "#change the vehicle type from number to name\n",
    "vehicle_routes_scenario3['VEHTYPE'].replace(to_replace=[100, 150, 200, 300], value=[\"Car\", \"Transporter\", \"HGV\", \"Bus\"],\n",
    "                                        inplace=True)\n",
    "len(vehicle_routes_scenario3)\n",
    "# show the unique cars\n",
    "number_of_cars_scenario3 = vehicle_routes_scenario3[\"$VEHICLE:NO\"].unique()\n",
    "# total number of cars in the network in the based scenario\n",
    "len(number_of_cars_scenario3)"
   ],
   "metadata": {
    "collapsed": false,
    "pycharm": {
     "name": "#%%\n"
    }
   }
  },
  {
   "cell_type": "code",
   "execution_count": 8,
   "outputs": [
    {
     "data": {
      "text/plain": "317"
     },
     "execution_count": 8,
     "metadata": {},
     "output_type": "execute_result"
    }
   ],
   "source": [
    "#scenario 4 cc8 = 10 but max and desired functions are 3.5\n",
    "#change the vehicle type from number to name\n",
    "vehicle_routes_scenario4 = pd.read_csv(\"data/Trajectories/scenario4.csv\")\n",
    "#change the vehicle type from number to name\n",
    "vehicle_routes_scenario4['VEHTYPE'].replace(to_replace=[100, 150, 200, 300], value=[\"Car\", \"Transporter\", \"HGV\", \"Bus\"],\n",
    "                                        inplace=True)\n",
    "len(vehicle_routes_scenario4)\n",
    "# show the unique cars\n",
    "number_of_cars_scenario4 = vehicle_routes_scenario4[\"$VEHICLE:NO\"].unique()\n",
    "# total number of cars in the network in the based scenario\n",
    "len(number_of_cars_scenario4)\n"
   ],
   "metadata": {
    "collapsed": false,
    "pycharm": {
     "name": "#%%\n"
    }
   }
  },
  {
   "cell_type": "code",
   "execution_count": 9,
   "outputs": [
    {
     "data": {
      "text/plain": "317"
     },
     "execution_count": 9,
     "metadata": {},
     "output_type": "execute_result"
    }
   ],
   "source": [
    "#scenario 5 is based scenario generated by me: all are 3.5\n",
    "vehicle_routes_scenario5 = pd.read_csv(\"data/Trajectories/scenario6based.csv\")\n",
    "#change the vehicle type from number to name\n",
    "vehicle_routes_scenario5['VEHTYPE'].replace(to_replace=[100, 150, 200, 300], value=[\"Car\", \"Transporter\", \"HGV\", \"Bus\"],\n",
    "                                        inplace=True)\n",
    "len(vehicle_routes_scenario5)\n",
    "# show the unique cars\n",
    "number_of_cars_scenario5 = vehicle_routes_scenario5[\"$VEHICLE:NO\"].unique()\n",
    "# total number of cars in the network in the based scenario\n",
    "len(number_of_cars_scenario5)"
   ],
   "metadata": {
    "collapsed": false,
    "pycharm": {
     "name": "#%%\n"
    }
   }
  },
  {
   "cell_type": "code",
   "execution_count": 10,
   "outputs": [
    {
     "data": {
      "text/plain": "   $VEHICLE:NO   SIMTMOFDAY  SIMSEC   POS  POSLAT VEHTYPE  SPEED  \\\n0            1  00:00:00.50     0.5  0.52     0.5     Car  52.98   \n1            1  00:00:00.60     0.6  1.99     0.5     Car  52.98   \n2            1  00:00:00.70     0.7  3.46     0.5     Car  52.98   \n3            1  00:00:00.80     0.8  4.93     0.5     Car  52.98   \n4            1  00:00:00.90     0.9  6.40     0.5     Car  52.98   \n\n   ACCELERATION  DISTTRAVTOT  LENGTH  LANE\\LINK\\NO  LANE\\INDEX  \n0           0.0         1.47    4.01            24           1  \n1           0.0         2.94    4.01            24           1  \n2           0.0         4.42    4.01            24           1  \n3           0.0         5.89    4.01            24           1  \n4           0.0         7.36    4.01            24           1  ",
      "text/html": "<div>\n<style scoped>\n    .dataframe tbody tr th:only-of-type {\n        vertical-align: middle;\n    }\n\n    .dataframe tbody tr th {\n        vertical-align: top;\n    }\n\n    .dataframe thead th {\n        text-align: right;\n    }\n</style>\n<table border=\"1\" class=\"dataframe\">\n  <thead>\n    <tr style=\"text-align: right;\">\n      <th></th>\n      <th>$VEHICLE:NO</th>\n      <th>SIMTMOFDAY</th>\n      <th>SIMSEC</th>\n      <th>POS</th>\n      <th>POSLAT</th>\n      <th>VEHTYPE</th>\n      <th>SPEED</th>\n      <th>ACCELERATION</th>\n      <th>DISTTRAVTOT</th>\n      <th>LENGTH</th>\n      <th>LANE\\LINK\\NO</th>\n      <th>LANE\\INDEX</th>\n    </tr>\n  </thead>\n  <tbody>\n    <tr>\n      <th>0</th>\n      <td>1</td>\n      <td>00:00:00.50</td>\n      <td>0.5</td>\n      <td>0.52</td>\n      <td>0.5</td>\n      <td>Car</td>\n      <td>52.98</td>\n      <td>0.0</td>\n      <td>1.47</td>\n      <td>4.01</td>\n      <td>24</td>\n      <td>1</td>\n    </tr>\n    <tr>\n      <th>1</th>\n      <td>1</td>\n      <td>00:00:00.60</td>\n      <td>0.6</td>\n      <td>1.99</td>\n      <td>0.5</td>\n      <td>Car</td>\n      <td>52.98</td>\n      <td>0.0</td>\n      <td>2.94</td>\n      <td>4.01</td>\n      <td>24</td>\n      <td>1</td>\n    </tr>\n    <tr>\n      <th>2</th>\n      <td>1</td>\n      <td>00:00:00.70</td>\n      <td>0.7</td>\n      <td>3.46</td>\n      <td>0.5</td>\n      <td>Car</td>\n      <td>52.98</td>\n      <td>0.0</td>\n      <td>4.42</td>\n      <td>4.01</td>\n      <td>24</td>\n      <td>1</td>\n    </tr>\n    <tr>\n      <th>3</th>\n      <td>1</td>\n      <td>00:00:00.80</td>\n      <td>0.8</td>\n      <td>4.93</td>\n      <td>0.5</td>\n      <td>Car</td>\n      <td>52.98</td>\n      <td>0.0</td>\n      <td>5.89</td>\n      <td>4.01</td>\n      <td>24</td>\n      <td>1</td>\n    </tr>\n    <tr>\n      <th>4</th>\n      <td>1</td>\n      <td>00:00:00.90</td>\n      <td>0.9</td>\n      <td>6.40</td>\n      <td>0.5</td>\n      <td>Car</td>\n      <td>52.98</td>\n      <td>0.0</td>\n      <td>7.36</td>\n      <td>4.01</td>\n      <td>24</td>\n      <td>1</td>\n    </tr>\n  </tbody>\n</table>\n</div>"
     },
     "execution_count": 10,
     "metadata": {},
     "output_type": "execute_result"
    }
   ],
   "source": [
    "# show trajectories of the based model\n",
    "vehicle_routes_based.head()\n"
   ],
   "metadata": {
    "collapsed": false,
    "pycharm": {
     "name": "#%%\n"
    }
   }
  },
  {
   "cell_type": "code",
   "execution_count": 11,
   "outputs": [
    {
     "data": {
      "text/plain": "   $VEHICLE:NO   SIMTMOFDAY  SIMSEC   POS  POSLAT VEHTYPE  SPEED  \\\n0            1  00:00:00.50     0.5  0.52     0.5     Car  52.98   \n1            1  00:00:00.60     0.6  1.99     0.5     Car  52.98   \n2            1  00:00:00.70     0.7  3.46     0.5     Car  52.98   \n3            1  00:00:00.80     0.8  4.93     0.5     Car  52.98   \n4            1  00:00:00.90     0.9  6.40     0.5     Car  52.98   \n\n   ACCELERATION  DISTTRAVTOT  LENGTH  LANE\\LINK\\NO  LANE\\INDEX  \n0           0.0         1.47    4.01            24           1  \n1           0.0         2.94    4.01            24           1  \n2           0.0         4.42    4.01            24           1  \n3           0.0         5.89    4.01            24           1  \n4           0.0         7.36    4.01            24           1  ",
      "text/html": "<div>\n<style scoped>\n    .dataframe tbody tr th:only-of-type {\n        vertical-align: middle;\n    }\n\n    .dataframe tbody tr th {\n        vertical-align: top;\n    }\n\n    .dataframe thead th {\n        text-align: right;\n    }\n</style>\n<table border=\"1\" class=\"dataframe\">\n  <thead>\n    <tr style=\"text-align: right;\">\n      <th></th>\n      <th>$VEHICLE:NO</th>\n      <th>SIMTMOFDAY</th>\n      <th>SIMSEC</th>\n      <th>POS</th>\n      <th>POSLAT</th>\n      <th>VEHTYPE</th>\n      <th>SPEED</th>\n      <th>ACCELERATION</th>\n      <th>DISTTRAVTOT</th>\n      <th>LENGTH</th>\n      <th>LANE\\LINK\\NO</th>\n      <th>LANE\\INDEX</th>\n    </tr>\n  </thead>\n  <tbody>\n    <tr>\n      <th>0</th>\n      <td>1</td>\n      <td>00:00:00.50</td>\n      <td>0.5</td>\n      <td>0.52</td>\n      <td>0.5</td>\n      <td>Car</td>\n      <td>52.98</td>\n      <td>0.0</td>\n      <td>1.47</td>\n      <td>4.01</td>\n      <td>24</td>\n      <td>1</td>\n    </tr>\n    <tr>\n      <th>1</th>\n      <td>1</td>\n      <td>00:00:00.60</td>\n      <td>0.6</td>\n      <td>1.99</td>\n      <td>0.5</td>\n      <td>Car</td>\n      <td>52.98</td>\n      <td>0.0</td>\n      <td>2.94</td>\n      <td>4.01</td>\n      <td>24</td>\n      <td>1</td>\n    </tr>\n    <tr>\n      <th>2</th>\n      <td>1</td>\n      <td>00:00:00.70</td>\n      <td>0.7</td>\n      <td>3.46</td>\n      <td>0.5</td>\n      <td>Car</td>\n      <td>52.98</td>\n      <td>0.0</td>\n      <td>4.42</td>\n      <td>4.01</td>\n      <td>24</td>\n      <td>1</td>\n    </tr>\n    <tr>\n      <th>3</th>\n      <td>1</td>\n      <td>00:00:00.80</td>\n      <td>0.8</td>\n      <td>4.93</td>\n      <td>0.5</td>\n      <td>Car</td>\n      <td>52.98</td>\n      <td>0.0</td>\n      <td>5.89</td>\n      <td>4.01</td>\n      <td>24</td>\n      <td>1</td>\n    </tr>\n    <tr>\n      <th>4</th>\n      <td>1</td>\n      <td>00:00:00.90</td>\n      <td>0.9</td>\n      <td>6.40</td>\n      <td>0.5</td>\n      <td>Car</td>\n      <td>52.98</td>\n      <td>0.0</td>\n      <td>7.36</td>\n      <td>4.01</td>\n      <td>24</td>\n      <td>1</td>\n    </tr>\n  </tbody>\n</table>\n</div>"
     },
     "execution_count": 11,
     "metadata": {},
     "output_type": "execute_result"
    }
   ],
   "source": [
    "# show trajectories of the scenario 1\n",
    "vehicle_routes_scenario1.head()\n"
   ],
   "metadata": {
    "collapsed": false,
    "pycharm": {
     "name": "#%%\n"
    }
   }
  },
  {
   "cell_type": "code",
   "execution_count": 12,
   "outputs": [
    {
     "data": {
      "text/plain": "   $VEHICLE:NO   SIMTMOFDAY  SIMSEC   POS  POSLAT VEHTYPE  SPEED  \\\n0            1  00:00:00.50     0.5  0.52     0.5     Car  52.98   \n1            1  00:00:00.60     0.6  1.99     0.5     Car  52.98   \n2            1  00:00:00.70     0.7  3.46     0.5     Car  52.98   \n3            1  00:00:00.80     0.8  4.93     0.5     Car  52.98   \n4            1  00:00:00.90     0.9  6.40     0.5     Car  52.98   \n\n   ACCELERATION  DISTTRAVTOT  LENGTH  LANE\\LINK\\NO  LANE\\INDEX  \n0           0.0         1.47    4.01            24           1  \n1           0.0         2.94    4.01            24           1  \n2           0.0         4.42    4.01            24           1  \n3           0.0         5.89    4.01            24           1  \n4           0.0         7.36    4.01            24           1  ",
      "text/html": "<div>\n<style scoped>\n    .dataframe tbody tr th:only-of-type {\n        vertical-align: middle;\n    }\n\n    .dataframe tbody tr th {\n        vertical-align: top;\n    }\n\n    .dataframe thead th {\n        text-align: right;\n    }\n</style>\n<table border=\"1\" class=\"dataframe\">\n  <thead>\n    <tr style=\"text-align: right;\">\n      <th></th>\n      <th>$VEHICLE:NO</th>\n      <th>SIMTMOFDAY</th>\n      <th>SIMSEC</th>\n      <th>POS</th>\n      <th>POSLAT</th>\n      <th>VEHTYPE</th>\n      <th>SPEED</th>\n      <th>ACCELERATION</th>\n      <th>DISTTRAVTOT</th>\n      <th>LENGTH</th>\n      <th>LANE\\LINK\\NO</th>\n      <th>LANE\\INDEX</th>\n    </tr>\n  </thead>\n  <tbody>\n    <tr>\n      <th>0</th>\n      <td>1</td>\n      <td>00:00:00.50</td>\n      <td>0.5</td>\n      <td>0.52</td>\n      <td>0.5</td>\n      <td>Car</td>\n      <td>52.98</td>\n      <td>0.0</td>\n      <td>1.47</td>\n      <td>4.01</td>\n      <td>24</td>\n      <td>1</td>\n    </tr>\n    <tr>\n      <th>1</th>\n      <td>1</td>\n      <td>00:00:00.60</td>\n      <td>0.6</td>\n      <td>1.99</td>\n      <td>0.5</td>\n      <td>Car</td>\n      <td>52.98</td>\n      <td>0.0</td>\n      <td>2.94</td>\n      <td>4.01</td>\n      <td>24</td>\n      <td>1</td>\n    </tr>\n    <tr>\n      <th>2</th>\n      <td>1</td>\n      <td>00:00:00.70</td>\n      <td>0.7</td>\n      <td>3.46</td>\n      <td>0.5</td>\n      <td>Car</td>\n      <td>52.98</td>\n      <td>0.0</td>\n      <td>4.42</td>\n      <td>4.01</td>\n      <td>24</td>\n      <td>1</td>\n    </tr>\n    <tr>\n      <th>3</th>\n      <td>1</td>\n      <td>00:00:00.80</td>\n      <td>0.8</td>\n      <td>4.93</td>\n      <td>0.5</td>\n      <td>Car</td>\n      <td>52.98</td>\n      <td>0.0</td>\n      <td>5.89</td>\n      <td>4.01</td>\n      <td>24</td>\n      <td>1</td>\n    </tr>\n    <tr>\n      <th>4</th>\n      <td>1</td>\n      <td>00:00:00.90</td>\n      <td>0.9</td>\n      <td>6.40</td>\n      <td>0.5</td>\n      <td>Car</td>\n      <td>52.98</td>\n      <td>0.0</td>\n      <td>7.36</td>\n      <td>4.01</td>\n      <td>24</td>\n      <td>1</td>\n    </tr>\n  </tbody>\n</table>\n</div>"
     },
     "execution_count": 12,
     "metadata": {},
     "output_type": "execute_result"
    }
   ],
   "source": [
    "# show trajectories of the scenario 2\n",
    "vehicle_routes_scenario2.head()\n",
    "\n"
   ],
   "metadata": {
    "collapsed": false,
    "pycharm": {
     "name": "#%%\n"
    }
   }
  },
  {
   "cell_type": "code",
   "execution_count": 13,
   "outputs": [
    {
     "data": {
      "text/plain": "SIMTMOFDAY      02:00:00.00\nSIMSEC               7200.0\nPOS                  477.89\nPOSLAT                  1.0\nVEHTYPE         Transporter\nSPEED                 61.09\nACCELERATION           3.44\nDISTTRAVTOT         1002.93\nLENGTH                 12.4\nLANE\\LINK\\NO            155\nLANE\\INDEX                4\ndtype: object"
     },
     "execution_count": 13,
     "metadata": {},
     "output_type": "execute_result"
    }
   ],
   "source": [
    "# based scenario complete simulation max\n",
    "\n",
    "vehicle_routes_based.groupby([\"$VEHICLE:NO\"]).max().max()"
   ],
   "metadata": {
    "collapsed": false,
    "pycharm": {
     "name": "#%%\n"
    }
   }
  },
  {
   "cell_type": "code",
   "execution_count": 14,
   "outputs": [
    {
     "name": "stderr",
     "output_type": "stream",
     "text": [
      "D:\\program files\\Anaconda\\envs\\Python-Anaconda-Vissim\\lib\\site-packages\\ipykernel_launcher.py:3: FutureWarning: Dropping of nuisance columns in DataFrame reductions (with 'numeric_only=None') is deprecated; in a future version this will raise TypeError.  Select only valid columns before calling the reduction.\n",
      "  This is separate from the ipykernel package so we can avoid doing imports until\n"
     ]
    },
    {
     "data": {
      "text/plain": "SIMSEC          3433.840073\nPOS              224.227523\nPOSLAT             0.868010\nSPEED             53.335364\nACCELERATION       1.641941\nDISTTRAVTOT      773.695531\nLENGTH             4.607575\nLANE\\LINK\\NO     111.464548\nLANE\\INDEX         2.967482\ndtype: float64"
     },
     "execution_count": 14,
     "metadata": {},
     "output_type": "execute_result"
    }
   ],
   "source": [
    "# based scenario complete simulation mean all links\n",
    "\n",
    "vehicle_routes_based.groupby([\"$VEHICLE:NO\"]).max().mean()\n"
   ],
   "metadata": {
    "collapsed": false,
    "pycharm": {
     "name": "#%%\n"
    }
   }
  },
  {
   "cell_type": "code",
   "execution_count": 15,
   "outputs": [
    {
     "data": {
      "text/plain": "SIMTMOFDAY      02:00:00.00\nSIMSEC               7200.0\nPOS                  477.83\nPOSLAT                  1.0\nVEHTYPE         Transporter\nSPEED                 59.12\nACCELERATION           3.34\nDISTTRAVTOT          1003.4\nLENGTH                 12.4\nLANE\\LINK\\NO            155\nLANE\\INDEX                4\ndtype: object"
     },
     "execution_count": 15,
     "metadata": {},
     "output_type": "execute_result"
    }
   ],
   "source": [
    "# scenario 1 complete simulation all links\n",
    "\n",
    "vehicle_routes_scenario1.groupby([\"$VEHICLE:NO\"]).max().max()"
   ],
   "metadata": {
    "collapsed": false,
    "pycharm": {
     "name": "#%%\n"
    }
   }
  },
  {
   "cell_type": "code",
   "execution_count": 16,
   "outputs": [
    {
     "data": {
      "text/plain": "SIMTMOFDAY      02:00:00.00\nSIMSEC               7200.0\nPOS                   477.8\nPOSLAT                  1.0\nVEHTYPE         Transporter\nSPEED                 58.98\nACCELERATION           2.96\nDISTTRAVTOT         1002.81\nLENGTH                 12.4\nLANE\\LINK\\NO            155\nLANE\\INDEX                4\ndtype: object"
     },
     "execution_count": 16,
     "metadata": {},
     "output_type": "execute_result"
    }
   ],
   "source": [
    "# scenario 2 complete simulation all links\n",
    "\n",
    "vehicle_routes_scenario2.groupby([\"$VEHICLE:NO\"]).max().max()\n"
   ],
   "metadata": {
    "collapsed": false,
    "pycharm": {
     "name": "#%%\n"
    }
   }
  },
  {
   "cell_type": "code",
   "execution_count": 17,
   "outputs": [
    {
     "data": {
      "text/plain": "SIMTMOFDAY      00:08:20.00\nSIMSEC                500.0\nPOS                  477.56\nPOSLAT                  1.0\nVEHTYPE         Transporter\nSPEED                 58.67\nACCELERATION           7.02\nLANE\\LINK\\NO            155\nLANE\\INDEX                4\ndtype: object"
     },
     "execution_count": 17,
     "metadata": {},
     "output_type": "execute_result"
    }
   ],
   "source": [
    "#CC8 Acceleration from Standstill\n",
    "#scenario 3 cc8 = 10 and max and desired functions are 10, 0 to 500 seconds all links\n",
    "\n",
    "vehicle_routes_scenario3.groupby([\"$VEHICLE:NO\"]).max().max()"
   ],
   "metadata": {
    "collapsed": false,
    "pycharm": {
     "name": "#%%\n"
    }
   }
  },
  {
   "cell_type": "code",
   "execution_count": 18,
   "outputs": [
    {
     "data": {
      "text/plain": "SIMTMOFDAY      00:08:20.00\nSIMSEC                500.0\nPOS                  477.05\nPOSLAT                  1.0\nVEHTYPE         Transporter\nSPEED                 58.65\nACCELERATION           3.26\nLANE\\LINK\\NO            155\nLANE\\INDEX                4\ndtype: object"
     },
     "execution_count": 18,
     "metadata": {},
     "output_type": "execute_result"
    }
   ],
   "source": [
    "#scenario 4 = 10 but max and desired functions are 3.5, 0 to 500 seconds all links\n",
    "vehicle_routes_scenario4.groupby([\"$VEHICLE:NO\"]).max().max()\n"
   ],
   "metadata": {
    "collapsed": false,
    "pycharm": {
     "name": "#%%\n"
    }
   }
  },
  {
   "cell_type": "code",
   "execution_count": 19,
   "outputs": [
    {
     "data": {
      "text/plain": "SIMTMOFDAY      00:08:20.00\nSIMSEC                500.0\nPOS                   477.1\nPOSLAT                  1.0\nVEHTYPE         Transporter\nSPEED                 58.65\nACCELERATION           3.36\nLANE\\LINK\\NO            155\nLANE\\INDEX                4\ndtype: object"
     },
     "execution_count": 19,
     "metadata": {},
     "output_type": "execute_result"
    }
   ],
   "source": [
    "#scenario 5 is based scenario generated by me: all are 3.5, 0 to 500 seconds all links\n",
    "vehicle_routes_scenario5.groupby([\"$VEHICLE:NO\"]).max().max()"
   ],
   "metadata": {
    "collapsed": false,
    "pycharm": {
     "name": "#%%\n"
    }
   }
  },
  {
   "cell_type": "code",
   "execution_count": 20,
   "outputs": [
    {
     "data": {
      "text/plain": "SIMTMOFDAY      00:08:19.30\nSIMSEC                499.3\nPOS                   55.06\nPOSLAT                  1.0\nVEHTYPE         Transporter\nSPEED                 59.62\nACCELERATION           3.21\nDISTTRAVTOT          354.12\nLENGTH                10.21\nLANE\\LINK\\NO             54\nLANE\\INDEX                2\ndtype: object"
     },
     "execution_count": 20,
     "metadata": {},
     "output_type": "execute_result"
    }
   ],
   "source": [
    "#CC8 Acceleration from Standstill\n",
    "#based scenario 0 to 500 seconds\n",
    "all_cars_on_link_54_based = vehicle_routes_based[\n",
    "    (vehicle_routes_based[\"LANE\\\\LINK\\\\NO\"] == 54) & (vehicle_routes_based[\"SIMSEC\"] < 500) & (\n",
    "            vehicle_routes_based[\"SIMSEC\"] > 0)]\n",
    "\n",
    "all_cars_on_link_54_based.groupby([\"$VEHICLE:NO\"]).max().max()\n"
   ],
   "metadata": {
    "collapsed": false,
    "pycharm": {
     "name": "#%%\n"
    }
   }
  },
  {
   "cell_type": "code",
   "execution_count": 21,
   "outputs": [
    {
     "data": {
      "text/plain": "SIMTMOFDAY      00:08:18.60\nSIMSEC                498.6\nPOS                   55.11\nPOSLAT                 0.97\nVEHTYPE         Transporter\nSPEED                  57.0\nACCELERATION           6.09\nLANE\\LINK\\NO             54\nLANE\\INDEX                2\ndtype: object"
     },
     "execution_count": 21,
     "metadata": {},
     "output_type": "execute_result"
    }
   ],
   "source": [
    "#CC8 Acceleration from Standstill\n",
    "#scenario 3 cc8 = 10 and max and desired functions are 10, 0 to 500 seconds\n",
    "all_cars_on_link_54_scenario3 = vehicle_routes_scenario3[\n",
    "    (vehicle_routes_scenario3[\"LANE\\\\LINK\\\\NO\"] == 54) & (vehicle_routes_scenario3[\"SIMSEC\"] < 500) & (\n",
    "            vehicle_routes_scenario3[\"SIMSEC\"] > 0)]\n",
    "\n",
    "all_cars_on_link_54_scenario3.groupby([\"$VEHICLE:NO\"]).max().max()"
   ],
   "metadata": {
    "collapsed": false,
    "pycharm": {
     "name": "#%%\n"
    }
   }
  },
  {
   "cell_type": "code",
   "execution_count": 22,
   "outputs": [
    {
     "data": {
      "text/plain": "SIMTMOFDAY      00:08:20.00\nSIMSEC                500.0\nPOS                  477.56\nPOSLAT                  1.0\nVEHTYPE         Transporter\nSPEED                 58.67\nACCELERATION           7.02\nLANE\\LINK\\NO            155\nLANE\\INDEX                4\ndtype: object"
     },
     "execution_count": 22,
     "metadata": {},
     "output_type": "execute_result"
    }
   ],
   "source": [
    "#scenario 3 cc8 = 10 and max and desired functions are 10, 0 to 500 seconds, all links\n",
    "vehicle_routes_scenario3.groupby([\"$VEHICLE:NO\"]).max().max()"
   ],
   "metadata": {
    "collapsed": false,
    "pycharm": {
     "name": "#%%\n"
    }
   }
  },
  {
   "cell_type": "code",
   "execution_count": 23,
   "outputs": [
    {
     "data": {
      "text/plain": "SIMTMOFDAY      00:08:18.60\nSIMSEC                498.6\nPOS                   55.11\nPOSLAT                  1.0\nVEHTYPE         Transporter\nSPEED                  57.0\nACCELERATION           3.14\nLANE\\LINK\\NO             54\nLANE\\INDEX                2\ndtype: object"
     },
     "execution_count": 23,
     "metadata": {},
     "output_type": "execute_result"
    }
   ],
   "source": [
    "#scenario 4 = 10 but max and desired functions are 3.5, 0 to 500 seconds\n",
    "all_cars_on_link_54_scenario4 = vehicle_routes_scenario4[\n",
    "    (vehicle_routes_scenario4[\"LANE\\\\LINK\\\\NO\"] == 54) & (vehicle_routes_scenario4[\"SIMSEC\"] < 500) & (\n",
    "            vehicle_routes_scenario4[\"SIMSEC\"] > 0)]\n",
    "\n",
    "all_cars_on_link_54_scenario4.groupby([\"$VEHICLE:NO\"]).max().max()\n"
   ],
   "metadata": {
    "collapsed": false,
    "pycharm": {
     "name": "#%%\n"
    }
   }
  },
  {
   "cell_type": "code",
   "execution_count": 24,
   "outputs": [
    {
     "data": {
      "text/plain": "SIMTMOFDAY      00:08:20.00\nSIMSEC                500.0\nPOS                  477.05\nPOSLAT                  1.0\nVEHTYPE         Transporter\nSPEED                 58.65\nACCELERATION           3.26\nLANE\\LINK\\NO            155\nLANE\\INDEX                4\ndtype: object"
     },
     "execution_count": 24,
     "metadata": {},
     "output_type": "execute_result"
    }
   ],
   "source": [
    "#scenario 4 = 10 but max and desired functions are 3.5, 0 to 500 seconds, all links\n",
    "vehicle_routes_scenario4.groupby([\"$VEHICLE:NO\"]).max().max()"
   ],
   "metadata": {
    "collapsed": false,
    "pycharm": {
     "name": "#%%\n"
    }
   }
  },
  {
   "cell_type": "code",
   "execution_count": 25,
   "outputs": [
    {
     "data": {
      "text/plain": "SIMTMOFDAY      00:08:18.60\nSIMSEC                498.6\nPOS                    55.1\nPOSLAT                 0.97\nVEHTYPE         Transporter\nSPEED                 57.33\nACCELERATION           3.05\nLANE\\LINK\\NO             54\nLANE\\INDEX                2\ndtype: object"
     },
     "execution_count": 25,
     "metadata": {},
     "output_type": "execute_result"
    }
   ],
   "source": [
    "#scenario 5 is based scenario generated by me: all are 3.5, 0 to 500 seconds\n",
    "all_cars_on_link_54_scenario5 = vehicle_routes_scenario5[\n",
    "    (vehicle_routes_scenario5[\"LANE\\\\LINK\\\\NO\"] == 54) & (vehicle_routes_scenario5[\"SIMSEC\"] < 500) & (\n",
    "            vehicle_routes_scenario5[\"SIMSEC\"] > 0)]\n",
    "\n",
    "all_cars_on_link_54_scenario5.groupby([\"$VEHICLE:NO\"]).max().max()"
   ],
   "metadata": {
    "collapsed": false,
    "pycharm": {
     "name": "#%%\n"
    }
   }
  },
  {
   "cell_type": "code",
   "execution_count": 26,
   "outputs": [
    {
     "data": {
      "text/plain": "SIMTMOFDAY      00:08:20.00\nSIMSEC                500.0\nPOS                   477.1\nPOSLAT                  1.0\nVEHTYPE         Transporter\nSPEED                 58.65\nACCELERATION           3.36\nLANE\\LINK\\NO            155\nLANE\\INDEX                4\ndtype: object"
     },
     "execution_count": 26,
     "metadata": {},
     "output_type": "execute_result"
    }
   ],
   "source": [
    "#scenario 5 is based scenario generated by me: all are 3.5, 0 to 500 seconds all links\n",
    "vehicle_routes_scenario5.groupby([\"$VEHICLE:NO\"]).max().max()\n"
   ],
   "metadata": {
    "collapsed": false,
    "pycharm": {
     "name": "#%%\n"
    }
   }
  }
 ],
 "metadata": {
  "kernelspec": {
   "display_name": "Python 3",
   "language": "python",
   "name": "python3"
  },
  "language_info": {
   "codemirror_mode": {
    "name": "ipython",
    "version": 2
   },
   "file_extension": ".py",
   "mimetype": "text/x-python",
   "name": "python",
   "nbconvert_exporter": "python",
   "pygments_lexer": "ipython2",
   "version": "2.7.6"
  }
 },
 "nbformat": 4,
 "nbformat_minor": 0
}