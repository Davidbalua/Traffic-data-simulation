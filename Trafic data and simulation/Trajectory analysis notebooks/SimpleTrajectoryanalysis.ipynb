{
 "cells": [
  {
   "cell_type": "code",
   "execution_count": 1,
   "metadata": {
    "collapsed": true
   },
   "outputs": [],
   "source": [
    "# Simulation-Uhrzeit: Simulationszeit als Uhrzeit [hh:mm:ss] = simulation time\n",
    "# Simulationssekunde: Simulationzeit\n",
    "#Fahrzeugprotokol = Vehicle record\n",
    "#Eindeutige Fahrzeugnummer = Vehicle number\n",
    "#Entfernung auf der Strecke vom Beginn der Strecke oder Verbindungsstrecke = Position\n",
    "#Querposition am Ende des Zeitschritts. Wertebereich 0-1:   = Position LAT\n",
    "# 0: an der rechten Fahrstreifenkante\n",
    "# 0.5: Mitte des Fahrstreifens\n",
    "# 1: an der linken Fahrstreifenkante\n",
    "\n",
    "# Beschleinigung = acceleration\n",
    "# Geschwindigkeit = Speed\n",
    "\n",
    "# Zeit im Netz : Die gesamte Zeit, die ein Fahrzeug im Netz ist:\n",
    "# Der Wert wird erst in der letzten Sekunde, bevor das Fahrzeug das Netz verlässt, gespeichert.\n",
    "# Protokollieren Sie in diesem Zeitschritt auch die Verlustzeit für das Fahrzeug.\n",
    "# Für Fahrzeuge, die sich am Ende der Simulation noch im Netz befinden, können Sie die Gesamtzeit anhand ihrer Einsetzzeit ermitteln.\n",
    "\n",
    "# https://datatofish.com/descriptive-statistics-pandas/\n",
    "# https://stackoverflow.com/questions/10138085/how-to-plot-normal-distribution\n",
    "\n",
    "# variance:\n",
    "# https://blog.finxter.com/how-to-calculate-the-column-variance-of-a-dataframe-in-python-pandas/\n",
    "\n",
    "#simulation second is from 0 to 7200.0\n",
    "# steps are 0.5, 0.6, 0.7\n",
    "\n",
    "# Vehicle type is 100, 150, 200, 300\n",
    "# 100 = car, 150 = transporter, 200 = HGV, 300 = bus"
   ]
  },
  {
   "cell_type": "code",
   "execution_count": 2,
   "outputs": [],
   "source": [
    "from datetime import datetime\n",
    "import pandas as pd\n",
    "import numpy as np\n",
    "import matplotlib.pyplot as plt\n",
    "\n"
   ],
   "metadata": {
    "collapsed": false,
    "pycharm": {
     "name": "#%%\n"
    }
   }
  },
  {
   "cell_type": "code",
   "execution_count": 3,
   "outputs": [
    {
     "data": {
      "text/plain": "2443976"
     },
     "execution_count": 3,
     "metadata": {},
     "output_type": "execute_result"
    }
   ],
   "source": [
    "# axis = 0 is Row, axis = 1 is Column\n",
    "vehicle_routes_based = pd.read_csv(\"data/Trajectories/GothaerPlatz - baseline.csv\")\n",
    "len(vehicle_routes_based)"
   ],
   "metadata": {
    "collapsed": false,
    "pycharm": {
     "name": "#%%\n"
    }
   }
  },
  {
   "cell_type": "code",
   "execution_count": 4,
   "outputs": [
    {
     "data": {
      "text/plain": "2413540"
     },
     "execution_count": 4,
     "metadata": {},
     "output_type": "execute_result"
    }
   ],
   "source": [
    "vehicle_routes_based_scenario1 = pd.read_csv(\"data/Trajectories/GothaerPlatz - Scenario 1.csv\")\n",
    "len(vehicle_routes_based_scenario1)"
   ],
   "metadata": {
    "collapsed": false,
    "pycharm": {
     "name": "#%%\n"
    }
   }
  },
  {
   "cell_type": "code",
   "execution_count": 5,
   "outputs": [
    {
     "data": {
      "text/plain": "   $VEHICLE:NO   SIMTMOFDAY  SIMSEC   POS  POSLAT  VEHTYPE  SPEED  \\\n0            1  00:00:00.50     0.5  0.52     0.5      100  52.98   \n1            1  00:00:00.60     0.6  1.99     0.5      100  52.98   \n2            1  00:00:00.70     0.7  3.46     0.5      100  52.98   \n3            1  00:00:00.80     0.8  4.93     0.5      100  52.98   \n4            1  00:00:00.90     0.9  6.40     0.5      100  52.98   \n\n   ACCELERATION  DISTTRAVTOT  LENGTH  LANE\\LINK\\NO  LANE\\INDEX  \n0           0.0         1.47    4.01            24           1  \n1           0.0         2.94    4.01            24           1  \n2           0.0         4.42    4.01            24           1  \n3           0.0         5.89    4.01            24           1  \n4           0.0         7.36    4.01            24           1  ",
      "text/html": "<div>\n<style scoped>\n    .dataframe tbody tr th:only-of-type {\n        vertical-align: middle;\n    }\n\n    .dataframe tbody tr th {\n        vertical-align: top;\n    }\n\n    .dataframe thead th {\n        text-align: right;\n    }\n</style>\n<table border=\"1\" class=\"dataframe\">\n  <thead>\n    <tr style=\"text-align: right;\">\n      <th></th>\n      <th>$VEHICLE:NO</th>\n      <th>SIMTMOFDAY</th>\n      <th>SIMSEC</th>\n      <th>POS</th>\n      <th>POSLAT</th>\n      <th>VEHTYPE</th>\n      <th>SPEED</th>\n      <th>ACCELERATION</th>\n      <th>DISTTRAVTOT</th>\n      <th>LENGTH</th>\n      <th>LANE\\LINK\\NO</th>\n      <th>LANE\\INDEX</th>\n    </tr>\n  </thead>\n  <tbody>\n    <tr>\n      <th>0</th>\n      <td>1</td>\n      <td>00:00:00.50</td>\n      <td>0.5</td>\n      <td>0.52</td>\n      <td>0.5</td>\n      <td>100</td>\n      <td>52.98</td>\n      <td>0.0</td>\n      <td>1.47</td>\n      <td>4.01</td>\n      <td>24</td>\n      <td>1</td>\n    </tr>\n    <tr>\n      <th>1</th>\n      <td>1</td>\n      <td>00:00:00.60</td>\n      <td>0.6</td>\n      <td>1.99</td>\n      <td>0.5</td>\n      <td>100</td>\n      <td>52.98</td>\n      <td>0.0</td>\n      <td>2.94</td>\n      <td>4.01</td>\n      <td>24</td>\n      <td>1</td>\n    </tr>\n    <tr>\n      <th>2</th>\n      <td>1</td>\n      <td>00:00:00.70</td>\n      <td>0.7</td>\n      <td>3.46</td>\n      <td>0.5</td>\n      <td>100</td>\n      <td>52.98</td>\n      <td>0.0</td>\n      <td>4.42</td>\n      <td>4.01</td>\n      <td>24</td>\n      <td>1</td>\n    </tr>\n    <tr>\n      <th>3</th>\n      <td>1</td>\n      <td>00:00:00.80</td>\n      <td>0.8</td>\n      <td>4.93</td>\n      <td>0.5</td>\n      <td>100</td>\n      <td>52.98</td>\n      <td>0.0</td>\n      <td>5.89</td>\n      <td>4.01</td>\n      <td>24</td>\n      <td>1</td>\n    </tr>\n    <tr>\n      <th>4</th>\n      <td>1</td>\n      <td>00:00:00.90</td>\n      <td>0.9</td>\n      <td>6.40</td>\n      <td>0.5</td>\n      <td>100</td>\n      <td>52.98</td>\n      <td>0.0</td>\n      <td>7.36</td>\n      <td>4.01</td>\n      <td>24</td>\n      <td>1</td>\n    </tr>\n  </tbody>\n</table>\n</div>"
     },
     "execution_count": 5,
     "metadata": {},
     "output_type": "execute_result"
    }
   ],
   "source": [
    "vehicle_routes_based.head()"
   ],
   "metadata": {
    "collapsed": false,
    "pycharm": {
     "name": "#%%\n"
    }
   }
  },
  {
   "cell_type": "code",
   "execution_count": 6,
   "outputs": [],
   "source": [
    "serie = vehicle_routes_based.iloc[2]"
   ],
   "metadata": {
    "collapsed": false,
    "pycharm": {
     "name": "#%%\n"
    }
   }
  },
  {
   "cell_type": "code",
   "execution_count": 7,
   "outputs": [],
   "source": [
    "dic = serie.to_dict()"
   ],
   "metadata": {
    "collapsed": false,
    "pycharm": {
     "name": "#%%\n"
    }
   }
  },
  {
   "cell_type": "code",
   "execution_count": 8,
   "outputs": [
    {
     "data": {
      "text/plain": "{'$VEHICLE:NO': 1,\n 'SIMTMOFDAY': '00:00:00.70',\n 'SIMSEC': 0.7,\n 'POS': 3.46,\n 'POSLAT': 0.5,\n 'VEHTYPE': 100,\n 'SPEED': 52.98,\n 'ACCELERATION': 0.0,\n 'DISTTRAVTOT': 4.42,\n 'LENGTH': 4.01,\n 'LANE\\\\LINK\\\\NO': 24,\n 'LANE\\\\INDEX': 1}"
     },
     "execution_count": 8,
     "metadata": {},
     "output_type": "execute_result"
    }
   ],
   "source": [
    "dic"
   ],
   "metadata": {
    "collapsed": false,
    "pycharm": {
     "name": "#%%\n"
    }
   }
  },
  {
   "cell_type": "code",
   "execution_count": 9,
   "outputs": [
    {
     "data": {
      "text/plain": "         $VEHICLE:NO   SIMTMOFDAY  SIMSEC     POS  POSLAT  VEHTYPE  SPEED  \\\n2443971         4086  02:00:00.00  7200.0   18.61     0.5      100  37.03   \n2443972         4087  02:00:00.00  7200.0   10.65     0.5      100  47.76   \n2443973         4088  02:00:00.00  7200.0  118.59     0.5      100  52.44   \n2443974         4089  02:00:00.00  7200.0  108.56     0.5      100  51.89   \n2443975         4090  02:00:00.00  7200.0   94.67     0.5      100  57.13   \n\n         ACCELERATION  DISTTRAVTOT  LENGTH  LANE\\LINK\\NO  LANE\\INDEX  \n2443971         -3.05       217.52    4.21            62           2  \n2443972          0.10       139.13    4.01             5           1  \n2443973         -0.04       119.64    4.61            24           1  \n2443974          0.00       109.54    4.64            24           2  \n2443975          0.00        94.84    4.21            77           1  ",
      "text/html": "<div>\n<style scoped>\n    .dataframe tbody tr th:only-of-type {\n        vertical-align: middle;\n    }\n\n    .dataframe tbody tr th {\n        vertical-align: top;\n    }\n\n    .dataframe thead th {\n        text-align: right;\n    }\n</style>\n<table border=\"1\" class=\"dataframe\">\n  <thead>\n    <tr style=\"text-align: right;\">\n      <th></th>\n      <th>$VEHICLE:NO</th>\n      <th>SIMTMOFDAY</th>\n      <th>SIMSEC</th>\n      <th>POS</th>\n      <th>POSLAT</th>\n      <th>VEHTYPE</th>\n      <th>SPEED</th>\n      <th>ACCELERATION</th>\n      <th>DISTTRAVTOT</th>\n      <th>LENGTH</th>\n      <th>LANE\\LINK\\NO</th>\n      <th>LANE\\INDEX</th>\n    </tr>\n  </thead>\n  <tbody>\n    <tr>\n      <th>2443971</th>\n      <td>4086</td>\n      <td>02:00:00.00</td>\n      <td>7200.0</td>\n      <td>18.61</td>\n      <td>0.5</td>\n      <td>100</td>\n      <td>37.03</td>\n      <td>-3.05</td>\n      <td>217.52</td>\n      <td>4.21</td>\n      <td>62</td>\n      <td>2</td>\n    </tr>\n    <tr>\n      <th>2443972</th>\n      <td>4087</td>\n      <td>02:00:00.00</td>\n      <td>7200.0</td>\n      <td>10.65</td>\n      <td>0.5</td>\n      <td>100</td>\n      <td>47.76</td>\n      <td>0.10</td>\n      <td>139.13</td>\n      <td>4.01</td>\n      <td>5</td>\n      <td>1</td>\n    </tr>\n    <tr>\n      <th>2443973</th>\n      <td>4088</td>\n      <td>02:00:00.00</td>\n      <td>7200.0</td>\n      <td>118.59</td>\n      <td>0.5</td>\n      <td>100</td>\n      <td>52.44</td>\n      <td>-0.04</td>\n      <td>119.64</td>\n      <td>4.61</td>\n      <td>24</td>\n      <td>1</td>\n    </tr>\n    <tr>\n      <th>2443974</th>\n      <td>4089</td>\n      <td>02:00:00.00</td>\n      <td>7200.0</td>\n      <td>108.56</td>\n      <td>0.5</td>\n      <td>100</td>\n      <td>51.89</td>\n      <td>0.00</td>\n      <td>109.54</td>\n      <td>4.64</td>\n      <td>24</td>\n      <td>2</td>\n    </tr>\n    <tr>\n      <th>2443975</th>\n      <td>4090</td>\n      <td>02:00:00.00</td>\n      <td>7200.0</td>\n      <td>94.67</td>\n      <td>0.5</td>\n      <td>100</td>\n      <td>57.13</td>\n      <td>0.00</td>\n      <td>94.84</td>\n      <td>4.21</td>\n      <td>77</td>\n      <td>1</td>\n    </tr>\n  </tbody>\n</table>\n</div>"
     },
     "execution_count": 9,
     "metadata": {},
     "output_type": "execute_result"
    }
   ],
   "source": [
    "vehicle_routes_based.tail()"
   ],
   "metadata": {
    "collapsed": false,
    "pycharm": {
     "name": "#%%\n"
    }
   }
  },
  {
   "cell_type": "code",
   "execution_count": 10,
   "outputs": [
    {
     "data": {
      "text/plain": "   $VEHICLE:NO   SIMTMOFDAY  SIMSEC   POS  POSLAT  VEHTYPE  SPEED  \\\n1            1  00:00:00.60     0.6  1.99     0.5      100  52.98   \n2            1  00:00:00.70     0.7  3.46     0.5      100  52.98   \n\n   ACCELERATION  DISTTRAVTOT  LENGTH  LANE\\LINK\\NO  LANE\\INDEX  \n1           0.0         2.94    4.01            24           1  \n2           0.0         4.42    4.01            24           1  ",
      "text/html": "<div>\n<style scoped>\n    .dataframe tbody tr th:only-of-type {\n        vertical-align: middle;\n    }\n\n    .dataframe tbody tr th {\n        vertical-align: top;\n    }\n\n    .dataframe thead th {\n        text-align: right;\n    }\n</style>\n<table border=\"1\" class=\"dataframe\">\n  <thead>\n    <tr style=\"text-align: right;\">\n      <th></th>\n      <th>$VEHICLE:NO</th>\n      <th>SIMTMOFDAY</th>\n      <th>SIMSEC</th>\n      <th>POS</th>\n      <th>POSLAT</th>\n      <th>VEHTYPE</th>\n      <th>SPEED</th>\n      <th>ACCELERATION</th>\n      <th>DISTTRAVTOT</th>\n      <th>LENGTH</th>\n      <th>LANE\\LINK\\NO</th>\n      <th>LANE\\INDEX</th>\n    </tr>\n  </thead>\n  <tbody>\n    <tr>\n      <th>1</th>\n      <td>1</td>\n      <td>00:00:00.60</td>\n      <td>0.6</td>\n      <td>1.99</td>\n      <td>0.5</td>\n      <td>100</td>\n      <td>52.98</td>\n      <td>0.0</td>\n      <td>2.94</td>\n      <td>4.01</td>\n      <td>24</td>\n      <td>1</td>\n    </tr>\n    <tr>\n      <th>2</th>\n      <td>1</td>\n      <td>00:00:00.70</td>\n      <td>0.7</td>\n      <td>3.46</td>\n      <td>0.5</td>\n      <td>100</td>\n      <td>52.98</td>\n      <td>0.0</td>\n      <td>4.42</td>\n      <td>4.01</td>\n      <td>24</td>\n      <td>1</td>\n    </tr>\n  </tbody>\n</table>\n</div>"
     },
     "execution_count": 10,
     "metadata": {},
     "output_type": "execute_result"
    }
   ],
   "source": [
    "vehicle_routes_based[(vehicle_routes_based[\"SIMSEC\"] > 0.5) & (vehicle_routes_based[\"SIMSEC\"] < 0.8)]"
   ],
   "metadata": {
    "collapsed": false,
    "pycharm": {
     "name": "#%%\n"
    }
   }
  },
  {
   "cell_type": "code",
   "execution_count": 11,
   "outputs": [
    {
     "data": {
      "text/plain": "             SIMSEC           POS\ncount  2.443976e+06  2.443976e+06\nmean   3.352259e+03  6.726465e+01\nstd    2.018204e+03  6.773792e+01\nmin    5.000000e-01  0.000000e+00\n25%    1.661600e+03  1.748000e+01\n50%    3.169600e+03  4.442000e+01\n75%    5.072700e+03  9.690000e+01\nmax    7.200000e+03  4.778900e+02",
      "text/html": "<div>\n<style scoped>\n    .dataframe tbody tr th:only-of-type {\n        vertical-align: middle;\n    }\n\n    .dataframe tbody tr th {\n        vertical-align: top;\n    }\n\n    .dataframe thead th {\n        text-align: right;\n    }\n</style>\n<table border=\"1\" class=\"dataframe\">\n  <thead>\n    <tr style=\"text-align: right;\">\n      <th></th>\n      <th>SIMSEC</th>\n      <th>POS</th>\n    </tr>\n  </thead>\n  <tbody>\n    <tr>\n      <th>count</th>\n      <td>2.443976e+06</td>\n      <td>2.443976e+06</td>\n    </tr>\n    <tr>\n      <th>mean</th>\n      <td>3.352259e+03</td>\n      <td>6.726465e+01</td>\n    </tr>\n    <tr>\n      <th>std</th>\n      <td>2.018204e+03</td>\n      <td>6.773792e+01</td>\n    </tr>\n    <tr>\n      <th>min</th>\n      <td>5.000000e-01</td>\n      <td>0.000000e+00</td>\n    </tr>\n    <tr>\n      <th>25%</th>\n      <td>1.661600e+03</td>\n      <td>1.748000e+01</td>\n    </tr>\n    <tr>\n      <th>50%</th>\n      <td>3.169600e+03</td>\n      <td>4.442000e+01</td>\n    </tr>\n    <tr>\n      <th>75%</th>\n      <td>5.072700e+03</td>\n      <td>9.690000e+01</td>\n    </tr>\n    <tr>\n      <th>max</th>\n      <td>7.200000e+03</td>\n      <td>4.778900e+02</td>\n    </tr>\n  </tbody>\n</table>\n</div>"
     },
     "execution_count": 11,
     "metadata": {},
     "output_type": "execute_result"
    }
   ],
   "source": [
    "vehicle_routes_based[[\"SIMSEC\", \"POS\"]].describe()"
   ],
   "metadata": {
    "collapsed": false,
    "pycharm": {
     "name": "#%%\n"
    }
   }
  },
  {
   "cell_type": "code",
   "execution_count": 12,
   "outputs": [
    {
     "data": {
      "text/plain": "count    2.443976e+06\nmean     1.113693e+02\nstd      2.739654e+01\nmin      1.000000e+02\n25%      1.000000e+02\n50%      1.000000e+02\n75%      1.000000e+02\nmax      3.000000e+02\nName: VEHTYPE, dtype: float64"
     },
     "execution_count": 12,
     "metadata": {},
     "output_type": "execute_result"
    }
   ],
   "source": [
    "# show the type of cars\n",
    "vehicle_routes_based[\"VEHTYPE\"].describe()"
   ],
   "metadata": {
    "collapsed": false,
    "pycharm": {
     "name": "#%%\n"
    }
   }
  },
  {
   "cell_type": "code",
   "execution_count": 13,
   "outputs": [],
   "source": [
    "vehicle_routes_based['VEHTYPE'].replace(to_replace=[100, 150, 200, 300], value=[\"Car\", \"Transporter\", \"HGV\", \"Bus\"],\n",
    "                                  inplace=True)\n"
   ],
   "metadata": {
    "collapsed": false,
    "pycharm": {
     "name": "#%%\n"
    }
   }
  },
  {
   "cell_type": "code",
   "execution_count": 14,
   "outputs": [
    {
     "data": {
      "text/plain": "         $VEHICLE:NO   SIMTMOFDAY  SIMSEC     POS  POSLAT VEHTYPE  SPEED  \\\n0                  1  00:00:00.50     0.5    0.52     0.5     Car  52.98   \n1                  1  00:00:00.60     0.6    1.99     0.5     Car  52.98   \n2                  1  00:00:00.70     0.7    3.46     0.5     Car  52.98   \n3                  1  00:00:00.80     0.8    4.93     0.5     Car  52.98   \n4                  1  00:00:00.90     0.9    6.40     0.5     Car  52.98   \n...              ...          ...     ...     ...     ...     ...    ...   \n2443971         4086  02:00:00.00  7200.0   18.61     0.5     Car  37.03   \n2443972         4087  02:00:00.00  7200.0   10.65     0.5     Car  47.76   \n2443973         4088  02:00:00.00  7200.0  118.59     0.5     Car  52.44   \n2443974         4089  02:00:00.00  7200.0  108.56     0.5     Car  51.89   \n2443975         4090  02:00:00.00  7200.0   94.67     0.5     Car  57.13   \n\n         ACCELERATION  DISTTRAVTOT  LENGTH  LANE\\LINK\\NO  LANE\\INDEX  \n0                0.00         1.47    4.01            24           1  \n1                0.00         2.94    4.01            24           1  \n2                0.00         4.42    4.01            24           1  \n3                0.00         5.89    4.01            24           1  \n4                0.00         7.36    4.01            24           1  \n...               ...          ...     ...           ...         ...  \n2443971         -3.05       217.52    4.21            62           2  \n2443972          0.10       139.13    4.01             5           1  \n2443973         -0.04       119.64    4.61            24           1  \n2443974          0.00       109.54    4.64            24           2  \n2443975          0.00        94.84    4.21            77           1  \n\n[2443976 rows x 12 columns]",
      "text/html": "<div>\n<style scoped>\n    .dataframe tbody tr th:only-of-type {\n        vertical-align: middle;\n    }\n\n    .dataframe tbody tr th {\n        vertical-align: top;\n    }\n\n    .dataframe thead th {\n        text-align: right;\n    }\n</style>\n<table border=\"1\" class=\"dataframe\">\n  <thead>\n    <tr style=\"text-align: right;\">\n      <th></th>\n      <th>$VEHICLE:NO</th>\n      <th>SIMTMOFDAY</th>\n      <th>SIMSEC</th>\n      <th>POS</th>\n      <th>POSLAT</th>\n      <th>VEHTYPE</th>\n      <th>SPEED</th>\n      <th>ACCELERATION</th>\n      <th>DISTTRAVTOT</th>\n      <th>LENGTH</th>\n      <th>LANE\\LINK\\NO</th>\n      <th>LANE\\INDEX</th>\n    </tr>\n  </thead>\n  <tbody>\n    <tr>\n      <th>0</th>\n      <td>1</td>\n      <td>00:00:00.50</td>\n      <td>0.5</td>\n      <td>0.52</td>\n      <td>0.5</td>\n      <td>Car</td>\n      <td>52.98</td>\n      <td>0.00</td>\n      <td>1.47</td>\n      <td>4.01</td>\n      <td>24</td>\n      <td>1</td>\n    </tr>\n    <tr>\n      <th>1</th>\n      <td>1</td>\n      <td>00:00:00.60</td>\n      <td>0.6</td>\n      <td>1.99</td>\n      <td>0.5</td>\n      <td>Car</td>\n      <td>52.98</td>\n      <td>0.00</td>\n      <td>2.94</td>\n      <td>4.01</td>\n      <td>24</td>\n      <td>1</td>\n    </tr>\n    <tr>\n      <th>2</th>\n      <td>1</td>\n      <td>00:00:00.70</td>\n      <td>0.7</td>\n      <td>3.46</td>\n      <td>0.5</td>\n      <td>Car</td>\n      <td>52.98</td>\n      <td>0.00</td>\n      <td>4.42</td>\n      <td>4.01</td>\n      <td>24</td>\n      <td>1</td>\n    </tr>\n    <tr>\n      <th>3</th>\n      <td>1</td>\n      <td>00:00:00.80</td>\n      <td>0.8</td>\n      <td>4.93</td>\n      <td>0.5</td>\n      <td>Car</td>\n      <td>52.98</td>\n      <td>0.00</td>\n      <td>5.89</td>\n      <td>4.01</td>\n      <td>24</td>\n      <td>1</td>\n    </tr>\n    <tr>\n      <th>4</th>\n      <td>1</td>\n      <td>00:00:00.90</td>\n      <td>0.9</td>\n      <td>6.40</td>\n      <td>0.5</td>\n      <td>Car</td>\n      <td>52.98</td>\n      <td>0.00</td>\n      <td>7.36</td>\n      <td>4.01</td>\n      <td>24</td>\n      <td>1</td>\n    </tr>\n    <tr>\n      <th>...</th>\n      <td>...</td>\n      <td>...</td>\n      <td>...</td>\n      <td>...</td>\n      <td>...</td>\n      <td>...</td>\n      <td>...</td>\n      <td>...</td>\n      <td>...</td>\n      <td>...</td>\n      <td>...</td>\n      <td>...</td>\n    </tr>\n    <tr>\n      <th>2443971</th>\n      <td>4086</td>\n      <td>02:00:00.00</td>\n      <td>7200.0</td>\n      <td>18.61</td>\n      <td>0.5</td>\n      <td>Car</td>\n      <td>37.03</td>\n      <td>-3.05</td>\n      <td>217.52</td>\n      <td>4.21</td>\n      <td>62</td>\n      <td>2</td>\n    </tr>\n    <tr>\n      <th>2443972</th>\n      <td>4087</td>\n      <td>02:00:00.00</td>\n      <td>7200.0</td>\n      <td>10.65</td>\n      <td>0.5</td>\n      <td>Car</td>\n      <td>47.76</td>\n      <td>0.10</td>\n      <td>139.13</td>\n      <td>4.01</td>\n      <td>5</td>\n      <td>1</td>\n    </tr>\n    <tr>\n      <th>2443973</th>\n      <td>4088</td>\n      <td>02:00:00.00</td>\n      <td>7200.0</td>\n      <td>118.59</td>\n      <td>0.5</td>\n      <td>Car</td>\n      <td>52.44</td>\n      <td>-0.04</td>\n      <td>119.64</td>\n      <td>4.61</td>\n      <td>24</td>\n      <td>1</td>\n    </tr>\n    <tr>\n      <th>2443974</th>\n      <td>4089</td>\n      <td>02:00:00.00</td>\n      <td>7200.0</td>\n      <td>108.56</td>\n      <td>0.5</td>\n      <td>Car</td>\n      <td>51.89</td>\n      <td>0.00</td>\n      <td>109.54</td>\n      <td>4.64</td>\n      <td>24</td>\n      <td>2</td>\n    </tr>\n    <tr>\n      <th>2443975</th>\n      <td>4090</td>\n      <td>02:00:00.00</td>\n      <td>7200.0</td>\n      <td>94.67</td>\n      <td>0.5</td>\n      <td>Car</td>\n      <td>57.13</td>\n      <td>0.00</td>\n      <td>94.84</td>\n      <td>4.21</td>\n      <td>77</td>\n      <td>1</td>\n    </tr>\n  </tbody>\n</table>\n<p>2443976 rows × 12 columns</p>\n</div>"
     },
     "execution_count": 14,
     "metadata": {},
     "output_type": "execute_result"
    }
   ],
   "source": [
    "vehicle_routes_based"
   ],
   "metadata": {
    "collapsed": false,
    "pycharm": {
     "name": "#%%\n"
    }
   }
  },
  {
   "cell_type": "code",
   "execution_count": 15,
   "outputs": [
    {
     "data": {
      "text/plain": "count     2443976\nunique          4\ntop           Car\nfreq      2023937\nName: VEHTYPE, dtype: object"
     },
     "execution_count": 15,
     "metadata": {},
     "output_type": "execute_result"
    }
   ],
   "source": [
    "vehicle_routes_based[\"VEHTYPE\"].describe()"
   ],
   "metadata": {
    "collapsed": false,
    "pycharm": {
     "name": "#%%\n"
    }
   }
  },
  {
   "cell_type": "code",
   "execution_count": 16,
   "outputs": [],
   "source": [
    "number_of_cars = vehicle_routes_based[\"$VEHICLE:NO\"].unique()"
   ],
   "metadata": {
    "collapsed": false,
    "pycharm": {
     "name": "#%%\n"
    }
   }
  },
  {
   "cell_type": "code",
   "execution_count": 17,
   "outputs": [
    {
     "data": {
      "text/plain": "4090"
     },
     "execution_count": 17,
     "metadata": {},
     "output_type": "execute_result"
    }
   ],
   "source": [
    "number_of_cars_list_size = number_of_cars.size\n",
    "number_of_cars_list_size"
   ],
   "metadata": {
    "collapsed": false,
    "pycharm": {
     "name": "#%%\n"
    }
   }
  },
  {
   "cell_type": "code",
   "execution_count": 17,
   "outputs": [],
   "source": [],
   "metadata": {
    "collapsed": false,
    "pycharm": {
     "name": "#%%\n"
    }
   }
  },
  {
   "cell_type": "code",
   "execution_count": 18,
   "outputs": [],
   "source": [
    "vehicle1 = vehicle_routes_based[vehicle_routes_based[\"$VEHICLE:NO\"] == 2000]"
   ],
   "metadata": {
    "collapsed": false,
    "pycharm": {
     "name": "#%%\n"
    }
   }
  },
  {
   "cell_type": "code",
   "execution_count": 19,
   "outputs": [
    {
     "data": {
      "text/plain": "         $VEHICLE:NO   SIMTMOFDAY  SIMSEC     POS  POSLAT VEHTYPE  SPEED  \\\n1213713         2000  00:52:29.60  3149.6    0.23     0.5     Car  34.83   \n1213758         2000  00:52:29.70  3149.7    1.20     0.5     Car  34.82   \n1213803         2000  00:52:29.80  3149.8    2.16     0.5     Car  34.80   \n1213848         2000  00:52:29.90  3149.9    3.13     0.5     Car  34.79   \n1213893         2000  00:52:30.00  3150.0    4.10     0.5     Car  34.78   \n...              ...          ...     ...     ...     ...     ...    ...   \n1237169         2000  00:53:35.30  3215.3  131.17     0.5     Car  55.81   \n1237200         2000  00:53:35.40  3215.4  132.72     0.5     Car  55.89   \n1237231         2000  00:53:35.50  3215.5  134.27     0.5     Car  55.97   \n1237262         2000  00:53:35.60  3215.6  135.83     0.5     Car  56.05   \n1237293         2000  00:53:35.70  3215.7  137.39     0.5     Car  56.14   \n\n         ACCELERATION  DISTTRAVTOT  LENGTH  LANE\\LINK\\NO  LANE\\INDEX  \n1213713         -0.04         0.97    4.21            61           1  \n1213758         -0.04         1.94    4.21            61           1  \n1213803         -0.04         2.90    4.21            61           1  \n1213848         -0.04         3.87    4.21            61           1  \n1213893         -0.04         4.83    4.21            61           1  \n...               ...          ...     ...           ...         ...  \n1237169          0.23       846.99    4.21            31           2  \n1237200          0.23       848.54    4.21            31           2  \n1237231          0.23       850.09    4.21            31           2  \n1237262          0.23       851.65    4.21            31           2  \n1237293          0.23       853.20    4.21            31           2  \n\n[662 rows x 12 columns]",
      "text/html": "<div>\n<style scoped>\n    .dataframe tbody tr th:only-of-type {\n        vertical-align: middle;\n    }\n\n    .dataframe tbody tr th {\n        vertical-align: top;\n    }\n\n    .dataframe thead th {\n        text-align: right;\n    }\n</style>\n<table border=\"1\" class=\"dataframe\">\n  <thead>\n    <tr style=\"text-align: right;\">\n      <th></th>\n      <th>$VEHICLE:NO</th>\n      <th>SIMTMOFDAY</th>\n      <th>SIMSEC</th>\n      <th>POS</th>\n      <th>POSLAT</th>\n      <th>VEHTYPE</th>\n      <th>SPEED</th>\n      <th>ACCELERATION</th>\n      <th>DISTTRAVTOT</th>\n      <th>LENGTH</th>\n      <th>LANE\\LINK\\NO</th>\n      <th>LANE\\INDEX</th>\n    </tr>\n  </thead>\n  <tbody>\n    <tr>\n      <th>1213713</th>\n      <td>2000</td>\n      <td>00:52:29.60</td>\n      <td>3149.6</td>\n      <td>0.23</td>\n      <td>0.5</td>\n      <td>Car</td>\n      <td>34.83</td>\n      <td>-0.04</td>\n      <td>0.97</td>\n      <td>4.21</td>\n      <td>61</td>\n      <td>1</td>\n    </tr>\n    <tr>\n      <th>1213758</th>\n      <td>2000</td>\n      <td>00:52:29.70</td>\n      <td>3149.7</td>\n      <td>1.20</td>\n      <td>0.5</td>\n      <td>Car</td>\n      <td>34.82</td>\n      <td>-0.04</td>\n      <td>1.94</td>\n      <td>4.21</td>\n      <td>61</td>\n      <td>1</td>\n    </tr>\n    <tr>\n      <th>1213803</th>\n      <td>2000</td>\n      <td>00:52:29.80</td>\n      <td>3149.8</td>\n      <td>2.16</td>\n      <td>0.5</td>\n      <td>Car</td>\n      <td>34.80</td>\n      <td>-0.04</td>\n      <td>2.90</td>\n      <td>4.21</td>\n      <td>61</td>\n      <td>1</td>\n    </tr>\n    <tr>\n      <th>1213848</th>\n      <td>2000</td>\n      <td>00:52:29.90</td>\n      <td>3149.9</td>\n      <td>3.13</td>\n      <td>0.5</td>\n      <td>Car</td>\n      <td>34.79</td>\n      <td>-0.04</td>\n      <td>3.87</td>\n      <td>4.21</td>\n      <td>61</td>\n      <td>1</td>\n    </tr>\n    <tr>\n      <th>1213893</th>\n      <td>2000</td>\n      <td>00:52:30.00</td>\n      <td>3150.0</td>\n      <td>4.10</td>\n      <td>0.5</td>\n      <td>Car</td>\n      <td>34.78</td>\n      <td>-0.04</td>\n      <td>4.83</td>\n      <td>4.21</td>\n      <td>61</td>\n      <td>1</td>\n    </tr>\n    <tr>\n      <th>...</th>\n      <td>...</td>\n      <td>...</td>\n      <td>...</td>\n      <td>...</td>\n      <td>...</td>\n      <td>...</td>\n      <td>...</td>\n      <td>...</td>\n      <td>...</td>\n      <td>...</td>\n      <td>...</td>\n      <td>...</td>\n    </tr>\n    <tr>\n      <th>1237169</th>\n      <td>2000</td>\n      <td>00:53:35.30</td>\n      <td>3215.3</td>\n      <td>131.17</td>\n      <td>0.5</td>\n      <td>Car</td>\n      <td>55.81</td>\n      <td>0.23</td>\n      <td>846.99</td>\n      <td>4.21</td>\n      <td>31</td>\n      <td>2</td>\n    </tr>\n    <tr>\n      <th>1237200</th>\n      <td>2000</td>\n      <td>00:53:35.40</td>\n      <td>3215.4</td>\n      <td>132.72</td>\n      <td>0.5</td>\n      <td>Car</td>\n      <td>55.89</td>\n      <td>0.23</td>\n      <td>848.54</td>\n      <td>4.21</td>\n      <td>31</td>\n      <td>2</td>\n    </tr>\n    <tr>\n      <th>1237231</th>\n      <td>2000</td>\n      <td>00:53:35.50</td>\n      <td>3215.5</td>\n      <td>134.27</td>\n      <td>0.5</td>\n      <td>Car</td>\n      <td>55.97</td>\n      <td>0.23</td>\n      <td>850.09</td>\n      <td>4.21</td>\n      <td>31</td>\n      <td>2</td>\n    </tr>\n    <tr>\n      <th>1237262</th>\n      <td>2000</td>\n      <td>00:53:35.60</td>\n      <td>3215.6</td>\n      <td>135.83</td>\n      <td>0.5</td>\n      <td>Car</td>\n      <td>56.05</td>\n      <td>0.23</td>\n      <td>851.65</td>\n      <td>4.21</td>\n      <td>31</td>\n      <td>2</td>\n    </tr>\n    <tr>\n      <th>1237293</th>\n      <td>2000</td>\n      <td>00:53:35.70</td>\n      <td>3215.7</td>\n      <td>137.39</td>\n      <td>0.5</td>\n      <td>Car</td>\n      <td>56.14</td>\n      <td>0.23</td>\n      <td>853.20</td>\n      <td>4.21</td>\n      <td>31</td>\n      <td>2</td>\n    </tr>\n  </tbody>\n</table>\n<p>662 rows × 12 columns</p>\n</div>"
     },
     "execution_count": 19,
     "metadata": {},
     "output_type": "execute_result"
    }
   ],
   "source": [
    "vehicle1"
   ],
   "metadata": {
    "collapsed": false,
    "pycharm": {
     "name": "#%%\n"
    }
   }
  },
  {
   "cell_type": "code",
   "execution_count": 20,
   "outputs": [
    {
     "data": {
      "text/plain": "         $VEHICLE:NO   SIMTMOFDAY  SIMSEC     POS  POSLAT VEHTYPE  SPEED  \\\n5166               1  00:00:39.80    39.8   22.37     0.5     Car   7.33   \n5192               1  00:00:39.90    39.9   22.58     0.5     Car   7.63   \n5218               1  00:00:40.00    40.0    0.04     0.5     Car   8.07   \n5244               1  00:00:40.10    40.1    0.27     0.5     Car   8.62   \n5270               1  00:00:40.20    40.2    0.52     0.5     Car   9.27   \n...              ...          ...     ...     ...     ...     ...    ...   \n2438823         4068  01:59:40.90  7180.9  177.76     0.5     Car   5.11   \n2438851         4068  01:59:41.00  7181.0  177.91     0.5     Car   6.12   \n2438879         4068  01:59:41.10  7181.1  178.10     0.5     Car   7.15   \n2438907         4068  01:59:41.20  7181.2  178.31     0.5     Car   8.16   \n2438935         4068  01:59:41.30  7181.3  178.55     0.5     Car   9.17   \n\n         ACCELERATION  DISTTRAVTOT  LENGTH  LANE\\LINK\\NO  LANE\\INDEX  \n5166             0.33       545.32    4.01            74           2  \n5192             0.83       545.52    4.01            74           2  \n5218             1.22       545.74    4.01           128           1  \n5244             1.54       545.97    4.01           128           1  \n5270             1.79       546.22    4.01           128           1  \n...               ...          ...     ...           ...         ...  \n2438823          2.61       178.19    4.01            24           2  \n2438851          2.81       178.34    4.01            24           2  \n2438879          2.85       178.53    4.01            24           2  \n2438907          2.82       178.74    4.01            24           2  \n2438935          2.79       178.98    4.01            24           2  \n\n[13071 rows x 12 columns]",
      "text/html": "<div>\n<style scoped>\n    .dataframe tbody tr th:only-of-type {\n        vertical-align: middle;\n    }\n\n    .dataframe tbody tr th {\n        vertical-align: top;\n    }\n\n    .dataframe thead th {\n        text-align: right;\n    }\n</style>\n<table border=\"1\" class=\"dataframe\">\n  <thead>\n    <tr style=\"text-align: right;\">\n      <th></th>\n      <th>$VEHICLE:NO</th>\n      <th>SIMTMOFDAY</th>\n      <th>SIMSEC</th>\n      <th>POS</th>\n      <th>POSLAT</th>\n      <th>VEHTYPE</th>\n      <th>SPEED</th>\n      <th>ACCELERATION</th>\n      <th>DISTTRAVTOT</th>\n      <th>LENGTH</th>\n      <th>LANE\\LINK\\NO</th>\n      <th>LANE\\INDEX</th>\n    </tr>\n  </thead>\n  <tbody>\n    <tr>\n      <th>5166</th>\n      <td>1</td>\n      <td>00:00:39.80</td>\n      <td>39.8</td>\n      <td>22.37</td>\n      <td>0.5</td>\n      <td>Car</td>\n      <td>7.33</td>\n      <td>0.33</td>\n      <td>545.32</td>\n      <td>4.01</td>\n      <td>74</td>\n      <td>2</td>\n    </tr>\n    <tr>\n      <th>5192</th>\n      <td>1</td>\n      <td>00:00:39.90</td>\n      <td>39.9</td>\n      <td>22.58</td>\n      <td>0.5</td>\n      <td>Car</td>\n      <td>7.63</td>\n      <td>0.83</td>\n      <td>545.52</td>\n      <td>4.01</td>\n      <td>74</td>\n      <td>2</td>\n    </tr>\n    <tr>\n      <th>5218</th>\n      <td>1</td>\n      <td>00:00:40.00</td>\n      <td>40.0</td>\n      <td>0.04</td>\n      <td>0.5</td>\n      <td>Car</td>\n      <td>8.07</td>\n      <td>1.22</td>\n      <td>545.74</td>\n      <td>4.01</td>\n      <td>128</td>\n      <td>1</td>\n    </tr>\n    <tr>\n      <th>5244</th>\n      <td>1</td>\n      <td>00:00:40.10</td>\n      <td>40.1</td>\n      <td>0.27</td>\n      <td>0.5</td>\n      <td>Car</td>\n      <td>8.62</td>\n      <td>1.54</td>\n      <td>545.97</td>\n      <td>4.01</td>\n      <td>128</td>\n      <td>1</td>\n    </tr>\n    <tr>\n      <th>5270</th>\n      <td>1</td>\n      <td>00:00:40.20</td>\n      <td>40.2</td>\n      <td>0.52</td>\n      <td>0.5</td>\n      <td>Car</td>\n      <td>9.27</td>\n      <td>1.79</td>\n      <td>546.22</td>\n      <td>4.01</td>\n      <td>128</td>\n      <td>1</td>\n    </tr>\n    <tr>\n      <th>...</th>\n      <td>...</td>\n      <td>...</td>\n      <td>...</td>\n      <td>...</td>\n      <td>...</td>\n      <td>...</td>\n      <td>...</td>\n      <td>...</td>\n      <td>...</td>\n      <td>...</td>\n      <td>...</td>\n      <td>...</td>\n    </tr>\n    <tr>\n      <th>2438823</th>\n      <td>4068</td>\n      <td>01:59:40.90</td>\n      <td>7180.9</td>\n      <td>177.76</td>\n      <td>0.5</td>\n      <td>Car</td>\n      <td>5.11</td>\n      <td>2.61</td>\n      <td>178.19</td>\n      <td>4.01</td>\n      <td>24</td>\n      <td>2</td>\n    </tr>\n    <tr>\n      <th>2438851</th>\n      <td>4068</td>\n      <td>01:59:41.00</td>\n      <td>7181.0</td>\n      <td>177.91</td>\n      <td>0.5</td>\n      <td>Car</td>\n      <td>6.12</td>\n      <td>2.81</td>\n      <td>178.34</td>\n      <td>4.01</td>\n      <td>24</td>\n      <td>2</td>\n    </tr>\n    <tr>\n      <th>2438879</th>\n      <td>4068</td>\n      <td>01:59:41.10</td>\n      <td>7181.1</td>\n      <td>178.10</td>\n      <td>0.5</td>\n      <td>Car</td>\n      <td>7.15</td>\n      <td>2.85</td>\n      <td>178.53</td>\n      <td>4.01</td>\n      <td>24</td>\n      <td>2</td>\n    </tr>\n    <tr>\n      <th>2438907</th>\n      <td>4068</td>\n      <td>01:59:41.20</td>\n      <td>7181.2</td>\n      <td>178.31</td>\n      <td>0.5</td>\n      <td>Car</td>\n      <td>8.16</td>\n      <td>2.82</td>\n      <td>178.74</td>\n      <td>4.01</td>\n      <td>24</td>\n      <td>2</td>\n    </tr>\n    <tr>\n      <th>2438935</th>\n      <td>4068</td>\n      <td>01:59:41.30</td>\n      <td>7181.3</td>\n      <td>178.55</td>\n      <td>0.5</td>\n      <td>Car</td>\n      <td>9.17</td>\n      <td>2.79</td>\n      <td>178.98</td>\n      <td>4.01</td>\n      <td>24</td>\n      <td>2</td>\n    </tr>\n  </tbody>\n</table>\n<p>13071 rows × 12 columns</p>\n</div>"
     },
     "execution_count": 20,
     "metadata": {},
     "output_type": "execute_result"
    }
   ],
   "source": [
    "vehicle_routes_based[(vehicle_routes_based[\"SPEED\"] < 10) & (vehicle_routes_based[\"ACCELERATION\"] > 0)]"
   ],
   "metadata": {
    "collapsed": false,
    "pycharm": {
     "name": "#%%\n"
    }
   }
  },
  {
   "cell_type": "code",
   "execution_count": 21,
   "outputs": [
    {
     "data": {
      "text/plain": "         $VEHICLE:NO   SIMTMOFDAY  SIMSEC     POS  POSLAT VEHTYPE  SPEED  \\\n9379              19  00:00:55.10    55.1   20.62     0.5     Car   0.97   \n24150             44  00:01:33.80    93.8   20.49     0.5     Car   0.59   \n26489             34  00:01:39.90    99.9    0.50     0.5     Car   0.83   \n33541             48  00:01:55.60   115.6   17.29     0.5     Car   0.94   \n36275             31  00:02:01.40   121.4  177.06     0.5     Car   0.62   \n...              ...          ...     ...     ...     ...     ...    ...   \n2410978         4018  01:58:08.40  7088.4   20.53     0.5     Car   0.62   \n2424489         4033  01:58:52.20  7132.2  177.30     0.5     Car   0.64   \n2431953         4059  01:59:16.30  7156.3   20.69     0.5     Car   0.84   \n2433903         4057  01:59:22.80  7162.8   17.32     0.5     Car   0.95   \n2438657         4068  01:59:40.30  7180.3  177.32     0.5     Car   0.61   \n\n         ACCELERATION  DISTTRAVTOT  LENGTH  LANE\\LINK\\NO  LANE\\INDEX  \n9379             1.25       319.63    4.01            54           1  \n24150            1.05       318.90    4.61            54           1  \n26489            1.21       545.39    4.21           128           1  \n33541            1.22       462.25    4.21            87           1  \n36275            1.10       178.38    4.61            24           2  \n...               ...          ...     ...           ...         ...  \n2410978          1.11       318.54    4.01            54           1  \n2424489          1.15       177.45    4.64            24           2  \n2431953          1.08       319.43    4.61            54           1  \n2433903          1.23       462.07    4.64            87           1  \n2438657          1.09       177.75    4.01            24           2  \n\n[434 rows x 12 columns]",
      "text/html": "<div>\n<style scoped>\n    .dataframe tbody tr th:only-of-type {\n        vertical-align: middle;\n    }\n\n    .dataframe tbody tr th {\n        vertical-align: top;\n    }\n\n    .dataframe thead th {\n        text-align: right;\n    }\n</style>\n<table border=\"1\" class=\"dataframe\">\n  <thead>\n    <tr style=\"text-align: right;\">\n      <th></th>\n      <th>$VEHICLE:NO</th>\n      <th>SIMTMOFDAY</th>\n      <th>SIMSEC</th>\n      <th>POS</th>\n      <th>POSLAT</th>\n      <th>VEHTYPE</th>\n      <th>SPEED</th>\n      <th>ACCELERATION</th>\n      <th>DISTTRAVTOT</th>\n      <th>LENGTH</th>\n      <th>LANE\\LINK\\NO</th>\n      <th>LANE\\INDEX</th>\n    </tr>\n  </thead>\n  <tbody>\n    <tr>\n      <th>9379</th>\n      <td>19</td>\n      <td>00:00:55.10</td>\n      <td>55.1</td>\n      <td>20.62</td>\n      <td>0.5</td>\n      <td>Car</td>\n      <td>0.97</td>\n      <td>1.25</td>\n      <td>319.63</td>\n      <td>4.01</td>\n      <td>54</td>\n      <td>1</td>\n    </tr>\n    <tr>\n      <th>24150</th>\n      <td>44</td>\n      <td>00:01:33.80</td>\n      <td>93.8</td>\n      <td>20.49</td>\n      <td>0.5</td>\n      <td>Car</td>\n      <td>0.59</td>\n      <td>1.05</td>\n      <td>318.90</td>\n      <td>4.61</td>\n      <td>54</td>\n      <td>1</td>\n    </tr>\n    <tr>\n      <th>26489</th>\n      <td>34</td>\n      <td>00:01:39.90</td>\n      <td>99.9</td>\n      <td>0.50</td>\n      <td>0.5</td>\n      <td>Car</td>\n      <td>0.83</td>\n      <td>1.21</td>\n      <td>545.39</td>\n      <td>4.21</td>\n      <td>128</td>\n      <td>1</td>\n    </tr>\n    <tr>\n      <th>33541</th>\n      <td>48</td>\n      <td>00:01:55.60</td>\n      <td>115.6</td>\n      <td>17.29</td>\n      <td>0.5</td>\n      <td>Car</td>\n      <td>0.94</td>\n      <td>1.22</td>\n      <td>462.25</td>\n      <td>4.21</td>\n      <td>87</td>\n      <td>1</td>\n    </tr>\n    <tr>\n      <th>36275</th>\n      <td>31</td>\n      <td>00:02:01.40</td>\n      <td>121.4</td>\n      <td>177.06</td>\n      <td>0.5</td>\n      <td>Car</td>\n      <td>0.62</td>\n      <td>1.10</td>\n      <td>178.38</td>\n      <td>4.61</td>\n      <td>24</td>\n      <td>2</td>\n    </tr>\n    <tr>\n      <th>...</th>\n      <td>...</td>\n      <td>...</td>\n      <td>...</td>\n      <td>...</td>\n      <td>...</td>\n      <td>...</td>\n      <td>...</td>\n      <td>...</td>\n      <td>...</td>\n      <td>...</td>\n      <td>...</td>\n      <td>...</td>\n    </tr>\n    <tr>\n      <th>2410978</th>\n      <td>4018</td>\n      <td>01:58:08.40</td>\n      <td>7088.4</td>\n      <td>20.53</td>\n      <td>0.5</td>\n      <td>Car</td>\n      <td>0.62</td>\n      <td>1.11</td>\n      <td>318.54</td>\n      <td>4.01</td>\n      <td>54</td>\n      <td>1</td>\n    </tr>\n    <tr>\n      <th>2424489</th>\n      <td>4033</td>\n      <td>01:58:52.20</td>\n      <td>7132.2</td>\n      <td>177.30</td>\n      <td>0.5</td>\n      <td>Car</td>\n      <td>0.64</td>\n      <td>1.15</td>\n      <td>177.45</td>\n      <td>4.64</td>\n      <td>24</td>\n      <td>2</td>\n    </tr>\n    <tr>\n      <th>2431953</th>\n      <td>4059</td>\n      <td>01:59:16.30</td>\n      <td>7156.3</td>\n      <td>20.69</td>\n      <td>0.5</td>\n      <td>Car</td>\n      <td>0.84</td>\n      <td>1.08</td>\n      <td>319.43</td>\n      <td>4.61</td>\n      <td>54</td>\n      <td>1</td>\n    </tr>\n    <tr>\n      <th>2433903</th>\n      <td>4057</td>\n      <td>01:59:22.80</td>\n      <td>7162.8</td>\n      <td>17.32</td>\n      <td>0.5</td>\n      <td>Car</td>\n      <td>0.95</td>\n      <td>1.23</td>\n      <td>462.07</td>\n      <td>4.64</td>\n      <td>87</td>\n      <td>1</td>\n    </tr>\n    <tr>\n      <th>2438657</th>\n      <td>4068</td>\n      <td>01:59:40.30</td>\n      <td>7180.3</td>\n      <td>177.32</td>\n      <td>0.5</td>\n      <td>Car</td>\n      <td>0.61</td>\n      <td>1.09</td>\n      <td>177.75</td>\n      <td>4.01</td>\n      <td>24</td>\n      <td>2</td>\n    </tr>\n  </tbody>\n</table>\n<p>434 rows × 12 columns</p>\n</div>"
     },
     "execution_count": 21,
     "metadata": {},
     "output_type": "execute_result"
    }
   ],
   "source": [
    "vehicle_routes_based[(vehicle_routes_based[\"SPEED\"] < 1) & (vehicle_routes_based[\"ACCELERATION\"] > 1)]\n"
   ],
   "metadata": {
    "collapsed": false,
    "pycharm": {
     "name": "#%%\n"
    }
   }
  },
  {
   "cell_type": "code",
   "execution_count": 22,
   "outputs": [
    {
     "data": {
      "text/plain": "             ACCELERATION      SPEED\n$VEHICLE:NO                         \n1               -0.003030  48.137286\n2               -0.007522  50.785543\n3               -0.002965  36.107730\n4                0.000137  54.407869\n5                0.005890  53.149402\n...                   ...        ...\n4086            -0.301597  54.327778\n4087            -0.020000  47.697048\n4088             0.074824  50.687412\n4089             0.015000  51.888026\n4090             0.065167  56.917000\n\n[4090 rows x 2 columns]",
      "text/html": "<div>\n<style scoped>\n    .dataframe tbody tr th:only-of-type {\n        vertical-align: middle;\n    }\n\n    .dataframe tbody tr th {\n        vertical-align: top;\n    }\n\n    .dataframe thead th {\n        text-align: right;\n    }\n</style>\n<table border=\"1\" class=\"dataframe\">\n  <thead>\n    <tr style=\"text-align: right;\">\n      <th></th>\n      <th>ACCELERATION</th>\n      <th>SPEED</th>\n    </tr>\n    <tr>\n      <th>$VEHICLE:NO</th>\n      <th></th>\n      <th></th>\n    </tr>\n  </thead>\n  <tbody>\n    <tr>\n      <th>1</th>\n      <td>-0.003030</td>\n      <td>48.137286</td>\n    </tr>\n    <tr>\n      <th>2</th>\n      <td>-0.007522</td>\n      <td>50.785543</td>\n    </tr>\n    <tr>\n      <th>3</th>\n      <td>-0.002965</td>\n      <td>36.107730</td>\n    </tr>\n    <tr>\n      <th>4</th>\n      <td>0.000137</td>\n      <td>54.407869</td>\n    </tr>\n    <tr>\n      <th>5</th>\n      <td>0.005890</td>\n      <td>53.149402</td>\n    </tr>\n    <tr>\n      <th>...</th>\n      <td>...</td>\n      <td>...</td>\n    </tr>\n    <tr>\n      <th>4086</th>\n      <td>-0.301597</td>\n      <td>54.327778</td>\n    </tr>\n    <tr>\n      <th>4087</th>\n      <td>-0.020000</td>\n      <td>47.697048</td>\n    </tr>\n    <tr>\n      <th>4088</th>\n      <td>0.074824</td>\n      <td>50.687412</td>\n    </tr>\n    <tr>\n      <th>4089</th>\n      <td>0.015000</td>\n      <td>51.888026</td>\n    </tr>\n    <tr>\n      <th>4090</th>\n      <td>0.065167</td>\n      <td>56.917000</td>\n    </tr>\n  </tbody>\n</table>\n<p>4090 rows × 2 columns</p>\n</div>"
     },
     "execution_count": 22,
     "metadata": {},
     "output_type": "execute_result"
    }
   ],
   "source": [
    "vehicle_routes_based.groupby([\"$VEHICLE:NO\"]).mean()[[\"ACCELERATION\",\"SPEED\"]]"
   ],
   "metadata": {
    "collapsed": false,
    "pycharm": {
     "name": "#%%\n"
    }
   }
  },
  {
   "cell_type": "code",
   "execution_count": 23,
   "outputs": [],
   "source": [
    "## Scenario one\n"
   ],
   "metadata": {
    "collapsed": false,
    "pycharm": {
     "name": "#%%\n"
    }
   }
  }
 ],
 "metadata": {
  "kernelspec": {
   "display_name": "Python 3",
   "language": "python",
   "name": "python3"
  },
  "language_info": {
   "codemirror_mode": {
    "name": "ipython",
    "version": 2
   },
   "file_extension": ".py",
   "mimetype": "text/x-python",
   "name": "python",
   "nbconvert_exporter": "python",
   "pygments_lexer": "ipython2",
   "version": "2.7.6"
  }
 },
 "nbformat": 4,
 "nbformat_minor": 0
}